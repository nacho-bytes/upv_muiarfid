{
 "cells": [
  {
   "cell_type": "code",
   "execution_count": 1,
   "id": "056584b5",
   "metadata": {
    "collapsed": false,
    "execution": {
     "iopub.execute_input": "2023-11-30T22:07:46.158192Z",
     "iopub.status.busy": "2023-11-30T22:07:46.157242Z",
     "iopub.status.idle": "2023-11-30T22:07:46.185585Z",
     "shell.execute_reply": "2023-11-30T22:07:46.183244Z"
    }
   },
   "outputs": [],
   "source": [
    "import os"
   ]
  },
  {
   "cell_type": "markdown",
   "id": "f94ebec3",
   "metadata": {},
   "source": [
    "# download and unzip data"
   ]
  },
  {
   "cell_type": "code",
   "execution_count": 2,
   "id": "e6f26ede",
   "metadata": {
    "collapsed": false,
    "execution": {
     "iopub.execute_input": "2023-11-30T22:07:46.195604Z",
     "iopub.status.busy": "2023-11-30T22:07:46.194700Z",
     "iopub.status.idle": "2023-11-30T22:07:46.221396Z",
     "shell.execute_reply": "2023-11-30T22:07:46.220476Z"
    }
   },
   "outputs": [],
   "source": [
    "os.makedirs('out', exist_ok=True)\n",
    "\n",
    "# url = 'https://openslr.elda.org/resources/17/musan.tar.gz' #'https://www.openslr.org/resources/17/musan.tar.gz'\n",
    "# # download and unzip\n",
    "# if not os.path.exists('musan.tar.gz'):\n",
    "#     os.system('wget ' + url)\n",
    "#     os.system('tar -xzf musan.tar.gz')\n",
    "url = 'http://dihana.cps.unizar.es/~cadrete/asr/musan_small.zip'\n",
    "if not os.path.exists('musan_small.zip'):\n",
    "    os.system('wget ' + url)\n",
    "    os.system('unzip musan_small.zip')\n",
    "\n",
    "# url = 'https://openslr.elda.org/resources/28/rirs_noises.zip'#'http://www.openslr.org/resources/28/rirs_noises.zip'\n",
    "# if not os.path.exists('rirs_noises.zip'):\n",
    "#     os.system('wget ' + url)\n",
    "#     os.system('unzip rirs_noises.zip')\n",
    "url = 'http://dihana.cps.unizar.es/~cadrete/asr/rirs_noises_small.zip'\n",
    "if not os.path.exists('rirs_noises_small.zip'):\n",
    "    os.system('wget ' + url)\n",
    "    os.system('unzip rirs_noises_small.zip')\n",
    "\n",
    "url = 'http://dihana.cps.unizar.es/~cadrete/asr/data1.zip'\n",
    "if not os.path.exists('data1.zip'):\n",
    "    os.system('wget ' + url)\n",
    "    os.system('unzip data1.zip')\n",
    "\n",
    "url = 'http://dihana.cps.unizar.es/~cadrete/asr/data3.zip'\n",
    "if not os.path.exists('data3.zip'):\n",
    "    os.system('wget ' + url)\n",
    "    os.system('unzip data3.zip')\n",
    "\n",
    "url = 'http://dihana.cps.unizar.es/~cadrete/asr/wav.zip'\n",
    "if not os.path.exists('wav.zip'):\n",
    "    os.system('wget ' + url)\n",
    "    os.system('unzip wav.zip')"
   ]
  }
 ],
 "metadata": {
  "language_info": {
   "codemirror_mode": {
    "name": "ipython",
    "version": 3
   },
   "file_extension": ".py",
   "mimetype": "text/x-python",
   "name": "python",
   "nbconvert_exporter": "python",
   "pygments_lexer": "ipython3",
   "version": "3.9.7"
  }
 },
 "nbformat": 4,
 "nbformat_minor": 5
}
