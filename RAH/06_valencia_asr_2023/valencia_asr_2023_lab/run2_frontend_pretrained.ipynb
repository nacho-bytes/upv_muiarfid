{
 "cells": [
  {
   "cell_type": "code",
   "execution_count": 1,
   "id": "e5be1622",
   "metadata": {
    "collapsed": false,
    "execution": {
     "iopub.execute_input": "2023-11-30T23:01:31.194363Z",
     "iopub.status.busy": "2023-11-30T23:01:31.193285Z",
     "iopub.status.idle": "2023-11-30T23:01:33.290112Z",
     "shell.execute_reply": "2023-11-30T23:01:33.289537Z"
    }
   },
   "outputs": [
    {
     "name": "stderr",
     "output_type": "stream",
     "text": [
      "/scratch/cadrete/software/miniconda3/lib/python3.9/site-packages/requests/__init__.py:102: RequestsDependencyWarning: urllib3 (1.26.7) or chardet (5.0.0)/charset_normalizer (2.0.4) doesn't match a supported version!\n",
      "  warnings.warn(\"urllib3 ({}) or chardet ({})/charset_normalizer ({}) doesn't match a supported \"\n"
     ]
    }
   ],
   "source": [
    "import torchaudio\n",
    "from transformers import WavLMModel\n",
    "import torch\n",
    "import glob\n",
    "from sklearn.manifold import TSNE\n",
    "import matplotlib.pyplot as plt\n",
    "import matplotlib\n",
    "import numpy as np"
   ]
  },
  {
   "cell_type": "markdown",
   "id": "facd2b9b",
   "metadata": {},
   "source": [
    "# Load wavlm model"
   ]
  },
  {
   "cell_type": "code",
   "execution_count": 2,
   "id": "32097691",
   "metadata": {
    "collapsed": false,
    "execution": {
     "iopub.execute_input": "2023-11-30T23:01:33.292395Z",
     "iopub.status.busy": "2023-11-30T23:01:33.292179Z",
     "iopub.status.idle": "2023-11-30T23:01:34.369076Z",
     "shell.execute_reply": "2023-11-30T23:01:34.368482Z"
    }
   },
   "outputs": [
    {
     "name": "stderr",
     "output_type": "stream",
     "text": [
      "Some weights of WavLMModel were not initialized from the model checkpoint at patrickvonplaten/wavlm-libri-clean-100h-base-plus and are newly initialized: ['wavlm.encoder.pos_conv_embed.conv.parametrizations.weight.original0', 'wavlm.encoder.pos_conv_embed.conv.parametrizations.weight.original1']\n",
      "You should probably TRAIN this model on a down-stream task to be able to use it for predictions and inference.\n"
     ]
    },
    {
     "name": "stdout",
     "output_type": "stream",
     "text": [
      "WavLMFeatureEncoder(\n",
      "  (conv_layers): ModuleList(\n",
      "    (0): WavLMGroupNormConvLayer(\n",
      "      (conv): Conv1d(1, 512, kernel_size=(10,), stride=(5,), bias=False)\n",
      "      (activation): GELUActivation()\n",
      "      (layer_norm): GroupNorm(512, 512, eps=1e-05, affine=True)\n",
      "    )\n",
      "    (1-4): 4 x WavLMNoLayerNormConvLayer(\n",
      "      (conv): Conv1d(512, 512, kernel_size=(3,), stride=(2,), bias=False)\n",
      "      (activation): GELUActivation()\n",
      "    )\n",
      "    (5-6): 2 x WavLMNoLayerNormConvLayer(\n",
      "      (conv): Conv1d(512, 512, kernel_size=(2,), stride=(2,), bias=False)\n",
      "      (activation): GELUActivation()\n",
      "    )\n",
      "  )\n",
      ")\n",
      "WavLMFeatureProjection(\n",
      "  (layer_norm): LayerNorm((512,), eps=1e-05, elementwise_affine=True)\n",
      "  (projection): Linear(in_features=512, out_features=768, bias=True)\n",
      "  (dropout): Dropout(p=0.0, inplace=False)\n",
      ")\n",
      "WavLMEncoder(\n",
      "  (pos_conv_embed): WavLMPositionalConvEmbedding(\n",
      "    (conv): ParametrizedConv1d(\n",
      "      768, 768, kernel_size=(128,), stride=(1,), padding=(64,), groups=16\n",
      "      (parametrizations): ModuleDict(\n",
      "        (weight): ParametrizationList(\n",
      "          (0): _WeightNorm()\n",
      "        )\n",
      "      )\n",
      "    )\n",
      "    (padding): WavLMSamePadLayer()\n",
      "    (activation): GELUActivation()\n",
      "  )\n",
      "  (layer_norm): LayerNorm((768,), eps=1e-05, elementwise_affine=True)\n",
      "  (dropout): Dropout(p=0.0, inplace=False)\n",
      "  (layers): ModuleList(\n",
      "    (0): WavLMEncoderLayer(\n",
      "      (attention): WavLMAttention(\n",
      "        (k_proj): Linear(in_features=768, out_features=768, bias=True)\n",
      "        (v_proj): Linear(in_features=768, out_features=768, bias=True)\n",
      "        (q_proj): Linear(in_features=768, out_features=768, bias=True)\n",
      "        (out_proj): Linear(in_features=768, out_features=768, bias=True)\n",
      "        (gru_rel_pos_linear): Linear(in_features=64, out_features=8, bias=True)\n",
      "        (rel_attn_embed): Embedding(320, 12)\n",
      "      )\n",
      "      (dropout): Dropout(p=0.0, inplace=False)\n",
      "      (layer_norm): LayerNorm((768,), eps=1e-05, elementwise_affine=True)\n",
      "      (feed_forward): WavLMFeedForward(\n",
      "        (intermediate_dropout): Dropout(p=0.0, inplace=False)\n",
      "        (intermediate_dense): Linear(in_features=768, out_features=3072, bias=True)\n",
      "        (intermediate_act_fn): GELUActivation()\n",
      "        (output_dense): Linear(in_features=3072, out_features=768, bias=True)\n",
      "        (output_dropout): Dropout(p=0.0, inplace=False)\n",
      "      )\n",
      "      (final_layer_norm): LayerNorm((768,), eps=1e-05, elementwise_affine=True)\n",
      "    )\n",
      "    (1-11): 11 x WavLMEncoderLayer(\n",
      "      (attention): WavLMAttention(\n",
      "        (k_proj): Linear(in_features=768, out_features=768, bias=True)\n",
      "        (v_proj): Linear(in_features=768, out_features=768, bias=True)\n",
      "        (q_proj): Linear(in_features=768, out_features=768, bias=True)\n",
      "        (out_proj): Linear(in_features=768, out_features=768, bias=True)\n",
      "        (gru_rel_pos_linear): Linear(in_features=64, out_features=8, bias=True)\n",
      "      )\n",
      "      (dropout): Dropout(p=0.0, inplace=False)\n",
      "      (layer_norm): LayerNorm((768,), eps=1e-05, elementwise_affine=True)\n",
      "      (feed_forward): WavLMFeedForward(\n",
      "        (intermediate_dropout): Dropout(p=0.0, inplace=False)\n",
      "        (intermediate_dense): Linear(in_features=768, out_features=3072, bias=True)\n",
      "        (intermediate_act_fn): GELUActivation()\n",
      "        (output_dense): Linear(in_features=3072, out_features=768, bias=True)\n",
      "        (output_dropout): Dropout(p=0.0, inplace=False)\n",
      "      )\n",
      "      (final_layer_norm): LayerNorm((768,), eps=1e-05, elementwise_affine=True)\n",
      "    )\n",
      "  )\n",
      ")\n",
      "number of parameters: 94381936\n"
     ]
    }
   ],
   "source": [
    "model = WavLMModel.from_pretrained(\"patrickvonplaten/wavlm-libri-clean-100h-base-plus\")\n",
    "\n",
    "print(model.feature_extractor)\n",
    "print(model.feature_projection)\n",
    "print(model.encoder)\n",
    "\n",
    "# print number of parameters\n",
    "print('number of parameters:', sum(p.numel() for p in model.parameters() if p.requires_grad))"
   ]
  },
  {
   "cell_type": "markdown",
   "id": "bbc37c9a",
   "metadata": {},
   "source": [
    "# Test feature extractor and model output (encoder)"
   ]
  },
  {
   "cell_type": "code",
   "execution_count": 3,
   "id": "33204b7a",
   "metadata": {
    "collapsed": false,
    "execution": {
     "iopub.execute_input": "2023-11-30T23:01:34.371200Z",
     "iopub.status.busy": "2023-11-30T23:01:34.371036Z",
     "iopub.status.idle": "2023-11-30T23:01:34.834278Z",
     "shell.execute_reply": "2023-11-30T23:01:34.833688Z"
    }
   },
   "outputs": [
    {
     "name": "stdout",
     "output_type": "stream",
     "text": [
      "torch.Size([1, 512, 49])\n",
      "WavLMFeatureEncoder(\n",
      "  (conv_layers): ModuleList(\n",
      "    (0): WavLMGroupNormConvLayer(\n",
      "      (conv): Conv1d(1, 512, kernel_size=(10,), stride=(5,), bias=False)\n",
      "      (activation): GELUActivation()\n",
      "      (layer_norm): GroupNorm(512, 512, eps=1e-05, affine=True)\n",
      "    )\n",
      "    (1-4): 4 x WavLMNoLayerNormConvLayer(\n",
      "      (conv): Conv1d(512, 512, kernel_size=(3,), stride=(2,), bias=False)\n",
      "      (activation): GELUActivation()\n",
      "    )\n",
      "    (5-6): 2 x WavLMNoLayerNormConvLayer(\n",
      "      (conv): Conv1d(512, 512, kernel_size=(2,), stride=(2,), bias=False)\n",
      "      (activation): GELUActivation()\n",
      "    )\n",
      "  )\n",
      ")\n",
      "torch.Size([1, 49, 768])\n"
     ]
    }
   ],
   "source": [
    "x = torch.randn(1, 16000)\n",
    "\n",
    "f = model.feature_extractor(x)\n",
    "print(f.shape)\n",
    "\n",
    "o = model(x)\n",
    "print(model.feature_extractor)\n",
    "y = o.last_hidden_state\n",
    "print(y.shape)\n",
    "\n",
    "torch.onnx.export(model.feature_extractor, x, \"feature_extractor.onnx\")"
   ]
  },
  {
   "cell_type": "markdown",
   "id": "5b764bb5",
   "metadata": {},
   "source": [
    "# Embeddings from feature extractor"
   ]
  },
  {
   "cell_type": "code",
   "execution_count": 4,
   "id": "448f43f2",
   "metadata": {
    "collapsed": false,
    "execution": {
     "iopub.execute_input": "2023-11-30T23:01:34.836716Z",
     "iopub.status.busy": "2023-11-30T23:01:34.836446Z",
     "iopub.status.idle": "2023-11-30T23:01:34.855558Z",
     "shell.execute_reply": "2023-11-30T23:01:34.855229Z"
    }
   },
   "outputs": [],
   "source": [
    "def embeddings(pattern):\n",
    "    files_ = glob.glob(pattern)\n",
    "    e = []\n",
    "    for wav in sorted(files_):\n",
    "        x, fs = torchaudio.load(wav)\n",
    "        f = model.feature_extractor(x)\n",
    "        e.append( f.mean(2) )\n",
    "    return torch.cat(e).detach().numpy()"
   ]
  },
  {
   "cell_type": "markdown",
   "id": "429c32dd",
   "metadata": {},
   "source": [
    "## Embeddings from feature extractor: gender"
   ]
  },
  {
   "cell_type": "code",
   "execution_count": 5,
   "id": "a0124e22",
   "metadata": {
    "collapsed": false,
    "execution": {
     "iopub.execute_input": "2023-11-30T23:01:34.857528Z",
     "iopub.status.busy": "2023-11-30T23:01:34.857369Z",
     "iopub.status.idle": "2023-11-30T23:01:40.354449Z",
     "shell.execute_reply": "2023-11-30T23:01:40.354056Z"
    }
   },
   "outputs": [
    {
     "name": "stdout",
     "output_type": "stream",
     "text": [
      "(200, 512) (300, 512)\n"
     ]
    },
    {
     "name": "stderr",
     "output_type": "stream",
     "text": [
      "/scratch/cadrete/software/miniconda3/lib/python3.9/site-packages/sklearn/manifold/_t_sne.py:780: FutureWarning: The default initialization in TSNE will change from 'random' to 'pca' in 1.2.\n",
      "  warnings.warn(\n",
      "/scratch/cadrete/software/miniconda3/lib/python3.9/site-packages/sklearn/manifold/_t_sne.py:790: FutureWarning: The default learning rate in TSNE will change from 200.0 to 'auto' in 1.2.\n",
      "  warnings.warn(\n"
     ]
    },
    {
     "data": {
      "text/plain": [
       "<matplotlib.collections.PathCollection at 0x7f015795ef40>"
      ]
     },
     "execution_count": 5,
     "metadata": {},
     "output_type": "execute_result"
    },
    {
     "data": {
      "image/png": "[encoded data removed]",
      "text/plain": [
       "<Figure size 432x288 with 1 Axes>"
      ]
     },
     "metadata": {
      "needs_background": "light"
     },
     "output_type": "display_data"
    }
   ],
   "source": [
    "e1 = embeddings('data1/test/*m*2.wav')\n",
    "e2 = embeddings('data1/test/*f*2.wav')\n",
    "e = np.concatenate([e1,e2])\n",
    "print(e1.shape, e2.shape)\n",
    "et = TSNE(n_components=2).fit_transform(e)\n",
    "plt.clf()\n",
    "plt.scatter(et[:len(e1),0], et[:len(e1),1], c='b')\n",
    "plt.scatter(et[len(e1):,0], et[len(e1):,1], c='r')"
   ]
  },
  {
   "cell_type": "markdown",
   "id": "cc501ff5",
   "metadata": {},
   "source": [
    "## Embeddings from feature extractor: speaker"
   ]
  },
  {
   "cell_type": "code",
   "execution_count": 6,
   "id": "e46b8230",
   "metadata": {
    "collapsed": false,
    "execution": {
     "iopub.execute_input": "2023-11-30T23:01:40.356556Z",
     "iopub.status.busy": "2023-11-30T23:01:40.356379Z",
     "iopub.status.idle": "2023-11-30T23:01:42.907180Z",
     "shell.execute_reply": "2023-11-30T23:01:42.906690Z"
    }
   },
   "outputs": [
    {
     "name": "stdout",
     "output_type": "stream",
     "text": [
      "(50, 512) (50, 512) (50, 512) (50, 512)\n"
     ]
    },
    {
     "name": "stderr",
     "output_type": "stream",
     "text": [
      "/scratch/cadrete/software/miniconda3/lib/python3.9/site-packages/sklearn/manifold/_t_sne.py:780: FutureWarning: The default initialization in TSNE will change from 'random' to 'pca' in 1.2.\n",
      "  warnings.warn(\n",
      "/scratch/cadrete/software/miniconda3/lib/python3.9/site-packages/sklearn/manifold/_t_sne.py:790: FutureWarning: The default learning rate in TSNE will change from 200.0 to 'auto' in 1.2.\n",
      "  warnings.warn(\n"
     ]
    },
    {
     "data": {
      "text/plain": [
       "<matplotlib.collections.PathCollection at 0x7f0154054dc0>"
      ]
     },
     "execution_count": 6,
     "metadata": {},
     "output_type": "execute_result"
    },
    {
     "data": {
      "image/png": "[encoded data removed]",
      "text/plain": [
       "<Figure size 432x288 with 1 Axes>"
      ]
     },
     "metadata": {
      "needs_background": "light"
     },
     "output_type": "display_data"
    }
   ],
   "source": [
    "e1 = embeddings('data1/test/*m_51_2.wav')\n",
    "e2 = embeddings('data1/test/*m_53_2.wav')\n",
    "e3 = embeddings('data1/test/*m_54_2.wav')\n",
    "e4 = embeddings('data1/test/*m_55_2.wav')\n",
    "\n",
    "e = np.concatenate([e1,e2,e3,e4])\n",
    "l = np.concatenate([np.zeros(len(e1)), np.ones(len(e2)), np.ones(len(e3))*2, np.ones(len(e4))*3])\n",
    "print(e1.shape, e2.shape, e3.shape, e4.shape)\n",
    "et = TSNE(n_components=2).fit_transform(e)\n",
    "plt.clf()\n",
    "plt.scatter(et[l==0,0], et[l==1,1], c='b')\n",
    "plt.scatter(et[l==1,0], et[l==1,1], c='r')\n",
    "plt.scatter(et[l==2,0], et[l==2,1], c='g')\n",
    "plt.scatter(et[l==3,0], et[l==3,1], c='y')"
   ]
  },
  {
   "cell_type": "markdown",
   "id": "287078e8",
   "metadata": {},
   "source": [
    "## Embeddings from feature extractor: word"
   ]
  },
  {
   "cell_type": "code",
   "execution_count": 7,
   "id": "27292551",
   "metadata": {
    "collapsed": false,
    "execution": {
     "iopub.execute_input": "2023-11-30T23:01:42.909229Z",
     "iopub.status.busy": "2023-11-30T23:01:42.909084Z",
     "iopub.status.idle": "2023-11-30T23:01:45.478399Z",
     "shell.execute_reply": "2023-11-30T23:01:45.477920Z"
    }
   },
   "outputs": [
    {
     "name": "stdout",
     "output_type": "stream",
     "text": [
      "(50, 512) (50, 512) (50, 512) (50, 512)\n"
     ]
    },
    {
     "name": "stderr",
     "output_type": "stream",
     "text": [
      "/scratch/cadrete/software/miniconda3/lib/python3.9/site-packages/sklearn/manifold/_t_sne.py:780: FutureWarning: The default initialization in TSNE will change from 'random' to 'pca' in 1.2.\n",
      "  warnings.warn(\n",
      "/scratch/cadrete/software/miniconda3/lib/python3.9/site-packages/sklearn/manifold/_t_sne.py:790: FutureWarning: The default learning rate in TSNE will change from 200.0 to 'auto' in 1.2.\n",
      "  warnings.warn(\n"
     ]
    },
    {
     "data": {
      "text/plain": [
       "<matplotlib.collections.PathCollection at 0x7f014bd0bc10>"
      ]
     },
     "execution_count": 7,
     "metadata": {},
     "output_type": "execute_result"
    },
    {
     "data": {
      "image/png": "[encoded data removed]",
      "text/plain": [
       "<Figure size 432x288 with 1 Axes>"
      ]
     },
     "metadata": {
      "needs_background": "light"
     },
     "output_type": "display_data"
    }
   ],
   "source": [
    "e1 = embeddings('data1/test/*m_51_1.wav')\n",
    "e2 = embeddings('data1/test/*m_51_2.wav')\n",
    "e3 = embeddings('data1/test/*m_51_3.wav')\n",
    "e4 = embeddings('data1/test/*m_51_4.wav')\n",
    "\n",
    "e = np.concatenate([e1,e2,e3,e4])\n",
    "l = np.concatenate([np.zeros(len(e1)), np.ones(len(e2)), np.ones(len(e3))*2, np.ones(len(e4))*3])\n",
    "\n",
    "print(e1.shape, e2.shape, e3.shape, e4.shape)\n",
    "et = TSNE(n_components=2).fit_transform(e)\n",
    "plt.clf()\n",
    "plt.scatter(et[l==0,0], et[l==1,1], c='b')\n",
    "plt.scatter(et[l==1,0], et[l==1,1], c='r')\n",
    "plt.scatter(et[l==2,0], et[l==2,1], c='g')\n",
    "plt.scatter(et[l==3,0], et[l==3,1], c='y')"
   ]
  },
  {
   "cell_type": "markdown",
   "id": "8695c010",
   "metadata": {},
   "source": [
    "# Embeddings from model output (encoder)"
   ]
  },
  {
   "cell_type": "code",
   "execution_count": 8,
   "id": "47e0419d",
   "metadata": {
    "collapsed": false,
    "execution": {
     "iopub.execute_input": "2023-11-30T23:01:45.480491Z",
     "iopub.status.busy": "2023-11-30T23:01:45.480311Z",
     "iopub.status.idle": "2023-11-30T23:01:45.499912Z",
     "shell.execute_reply": "2023-11-30T23:01:45.499571Z"
    }
   },
   "outputs": [],
   "source": [
    "def embeddings2(pattern):\n",
    "    files_ = glob.glob(pattern)\n",
    "    e = []\n",
    "    for wav in sorted(files_):\n",
    "        x, fs = torchaudio.load(wav)\n",
    "        o = model(x).last_hidden_state\n",
    "        e.append( o.mean(1) )\n",
    "    return torch.cat(e).detach().numpy()"
   ]
  },
  {
   "cell_type": "markdown",
   "id": "981e281b",
   "metadata": {},
   "source": [
    "# Embeddings from model output (encoder): gender"
   ]
  },
  {
   "cell_type": "code",
   "execution_count": 9,
   "id": "c17ba816",
   "metadata": {
    "collapsed": false,
    "execution": {
     "iopub.execute_input": "2023-11-30T23:01:45.501700Z",
     "iopub.status.busy": "2023-11-30T23:01:45.501536Z",
     "iopub.status.idle": "2023-11-30T23:02:08.122927Z",
     "shell.execute_reply": "2023-11-30T23:02:08.122565Z"
    }
   },
   "outputs": [
    {
     "name": "stdout",
     "output_type": "stream",
     "text": [
      "(200, 768) (300, 768)\n"
     ]
    },
    {
     "name": "stderr",
     "output_type": "stream",
     "text": [
      "/scratch/cadrete/software/miniconda3/lib/python3.9/site-packages/sklearn/manifold/_t_sne.py:780: FutureWarning: The default initialization in TSNE will change from 'random' to 'pca' in 1.2.\n",
      "  warnings.warn(\n",
      "/scratch/cadrete/software/miniconda3/lib/python3.9/site-packages/sklearn/manifold/_t_sne.py:790: FutureWarning: The default learning rate in TSNE will change from 200.0 to 'auto' in 1.2.\n",
      "  warnings.warn(\n"
     ]
    },
    {
     "data": {
      "text/plain": [
       "<matplotlib.collections.PathCollection at 0x7f014bd54220>"
      ]
     },
     "execution_count": 9,
     "metadata": {},
     "output_type": "execute_result"
    },
    {
     "data": {
      "image/png": "[encoded data removed]",
      "text/plain": [
       "<Figure size 432x288 with 1 Axes>"
      ]
     },
     "metadata": {
      "needs_background": "light"
     },
     "output_type": "display_data"
    }
   ],
   "source": [
    "e1 = embeddings2('data1/test/*m*2.wav')\n",
    "e2 = embeddings2('data1/test/*f*2.wav')\n",
    "e = np.concatenate([e1,e2])\n",
    "print(e1.shape, e2.shape)\n",
    "et = TSNE(n_components=2).fit_transform(e)\n",
    "plt.clf()\n",
    "plt.scatter(et[:len(e1),0], et[:len(e1),1], c='b')\n",
    "plt.scatter(et[len(e1):,0], et[len(e1):,1], c='r')"
   ]
  },
  {
   "cell_type": "markdown",
   "id": "5bc34a85",
   "metadata": {},
   "source": [
    "# Embeddings from model output (encoder): speaker"
   ]
  },
  {
   "cell_type": "code",
   "execution_count": 10,
   "id": "05deb281",
   "metadata": {
    "collapsed": false,
    "execution": {
     "iopub.execute_input": "2023-11-30T23:02:08.124923Z",
     "iopub.status.busy": "2023-11-30T23:02:08.124747Z",
     "iopub.status.idle": "2023-11-30T23:02:17.880452Z",
     "shell.execute_reply": "2023-11-30T23:02:17.879940Z"
    }
   },
   "outputs": [
    {
     "name": "stdout",
     "output_type": "stream",
     "text": [
      "(50, 768) (50, 768) (50, 768) (50, 768)\n"
     ]
    },
    {
     "name": "stderr",
     "output_type": "stream",
     "text": [
      "/scratch/cadrete/software/miniconda3/lib/python3.9/site-packages/sklearn/manifold/_t_sne.py:780: FutureWarning: The default initialization in TSNE will change from 'random' to 'pca' in 1.2.\n",
      "  warnings.warn(\n",
      "/scratch/cadrete/software/miniconda3/lib/python3.9/site-packages/sklearn/manifold/_t_sne.py:790: FutureWarning: The default learning rate in TSNE will change from 200.0 to 'auto' in 1.2.\n",
      "  warnings.warn(\n"
     ]
    },
    {
     "data": {
      "text/plain": [
       "<matplotlib.collections.PathCollection at 0x7f017c858430>"
      ]
     },
     "execution_count": 10,
     "metadata": {},
     "output_type": "execute_result"
    },
    {
     "data": {
      "image/png": "[encoded data removed]",
      "text/plain": [
       "<Figure size 432x288 with 1 Axes>"
      ]
     },
     "metadata": {
      "needs_background": "light"
     },
     "output_type": "display_data"
    }
   ],
   "source": [
    "e1 = embeddings2('data1/test/*m_51_2.wav')\n",
    "e2 = embeddings2('data1/test/*m_53_2.wav')\n",
    "e3 = embeddings2('data1/test/*m_54_2.wav')\n",
    "e4 = embeddings2('data1/test/*m_55_2.wav')\n",
    "\n",
    "e = np.concatenate([e1,e2,e3,e4])\n",
    "l = np.concatenate([np.zeros(len(e1)), np.ones(len(e2)), np.ones(len(e3))*2, np.ones(len(e4))*3])\n",
    "print(e1.shape, e2.shape, e3.shape, e4.shape)\n",
    "et = TSNE(n_components=2).fit_transform(e)\n",
    "plt.clf()\n",
    "plt.scatter(et[l==0,0], et[l==1,1], c='b')\n",
    "plt.scatter(et[l==1,0], et[l==1,1], c='r')\n",
    "plt.scatter(et[l==2,0], et[l==2,1], c='g')\n",
    "plt.scatter(et[l==3,0], et[l==3,1], c='y')"
   ]
  },
  {
   "cell_type": "markdown",
   "id": "9b3f0bd3",
   "metadata": {},
   "source": [
    "# Embeddings from model output (encoder): word"
   ]
  },
  {
   "cell_type": "code",
   "execution_count": 11,
   "id": "bf3c24f5",
   "metadata": {
    "collapsed": false,
    "execution": {
     "iopub.execute_input": "2023-11-30T23:02:17.882452Z",
     "iopub.status.busy": "2023-11-30T23:02:17.882284Z",
     "iopub.status.idle": "2023-11-30T23:02:27.393581Z",
     "shell.execute_reply": "2023-11-30T23:02:27.393100Z"
    }
   },
   "outputs": [
    {
     "name": "stdout",
     "output_type": "stream",
     "text": [
      "(50, 768) (50, 768) (50, 768) (50, 768)\n"
     ]
    },
    {
     "name": "stderr",
     "output_type": "stream",
     "text": [
      "/scratch/cadrete/software/miniconda3/lib/python3.9/site-packages/sklearn/manifold/_t_sne.py:780: FutureWarning: The default initialization in TSNE will change from 'random' to 'pca' in 1.2.\n",
      "  warnings.warn(\n",
      "/scratch/cadrete/software/miniconda3/lib/python3.9/site-packages/sklearn/manifold/_t_sne.py:790: FutureWarning: The default learning rate in TSNE will change from 200.0 to 'auto' in 1.2.\n",
      "  warnings.warn(\n"
     ]
    },
    {
     "data": {
      "text/plain": [
       "<matplotlib.collections.PathCollection at 0x7f0157d507c0>"
      ]
     },
     "execution_count": 11,
     "metadata": {},
     "output_type": "execute_result"
    },
    {
     "data": {
      "image/png": "[encoded data removed]",
      "text/plain": [
       "<Figure size 432x288 with 1 Axes>"
      ]
     },
     "metadata": {
      "needs_background": "light"
     },
     "output_type": "display_data"
    }
   ],
   "source": [
    "e1 = embeddings2('data1/test/*m_51_1.wav')\n",
    "e2 = embeddings2('data1/test/*m_51_2.wav')\n",
    "e3 = embeddings2('data1/test/*m_51_3.wav')\n",
    "e4 = embeddings2('data1/test/*m_51_4.wav')\n",
    "\n",
    "e = np.concatenate([e1,e2,e3,e4])\n",
    "l = np.concatenate([np.zeros(len(e1)), np.ones(len(e2)), np.ones(len(e3))*2, np.ones(len(e4))*3])\n",
    "\n",
    "print(e1.shape, e2.shape, e3.shape, e4.shape)\n",
    "et = TSNE(n_components=2).fit_transform(e)\n",
    "plt.clf()\n",
    "plt.scatter(et[l==0,0], et[l==1,1], c='b')\n",
    "plt.scatter(et[l==1,0], et[l==1,1], c='r')\n",
    "plt.scatter(et[l==2,0], et[l==2,1], c='g')\n",
    "plt.scatter(et[l==3,0], et[l==3,1], c='y')"
   ]
  }
 ],
 "metadata": {
  "language_info": {
   "codemirror_mode": {
    "name": "ipython",
    "version": 3
   },
   "file_extension": ".py",
   "mimetype": "text/x-python",
   "name": "python",
   "nbconvert_exporter": "python",
   "pygments_lexer": "ipython3",
   "version": "3.9.7"
  }
 },
 "nbformat": 4,
 "nbformat_minor": 5
}
