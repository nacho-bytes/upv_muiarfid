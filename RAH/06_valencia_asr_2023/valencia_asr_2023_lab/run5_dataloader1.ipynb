{
 "cells": [
  {
   "cell_type": "code",
   "execution_count": 1,
   "id": "0dc42a4f",
   "metadata": {
    "collapsed": false,
    "execution": {
     "iopub.execute_input": "2023-11-30T22:32:54.099520Z",
     "iopub.status.busy": "2023-11-30T22:32:54.099051Z",
     "iopub.status.idle": "2023-11-30T22:32:55.206843Z",
     "shell.execute_reply": "2023-11-30T22:32:55.206196Z"
    }
   },
   "outputs": [],
   "source": [
    "import torch, torchaudio, glob"
   ]
  },
  {
   "cell_type": "markdown",
   "id": "0e2dcf87",
   "metadata": {},
   "source": [
    "# Dataset\n",
    "\n",
    "Sample of trainset and testset using torch.utils.data.Dataset class.\n",
    "The task is to recognize isolated digits 0-9 from spoken audio.\n",
    "The audios have a max length of 1 second and a sampling rate of 16kHz."
   ]
  },
  {
   "cell_type": "code",
   "execution_count": 2,
   "id": "3c170fe4",
   "metadata": {
    "collapsed": false,
    "execution": {
     "iopub.execute_input": "2023-11-30T22:32:55.209608Z",
     "iopub.status.busy": "2023-11-30T22:32:55.209343Z",
     "iopub.status.idle": "2023-11-30T22:32:55.275148Z",
     "shell.execute_reply": "2023-11-30T22:32:55.274580Z"
    }
   },
   "outputs": [
    {
     "name": "stdout",
     "output_type": "stream",
     "text": [
      "25000\n",
      "5000\n",
      "torch.Size([16000]) 0\n"
     ]
    }
   ],
   "source": [
    "def identity(x):\n",
    "    return x\n",
    "\n",
    "class TrainDataset(torch.utils.data.Dataset):\n",
    "    def __init__(self, data_dir='data1/train', audio_len = 16000, transform=[identity]):        \n",
    "        self.transform = transform\n",
    "        self.audio_len = audio_len\n",
    "        self.files = sorted( glob.glob(data_dir+'/*.wav') )        \n",
    "        print(len(self.files))\n",
    "\n",
    "    def __len__(self):\n",
    "        return len(self.files)\n",
    "\n",
    "    def __getitem__(self, idx):\n",
    "        x, fs = torchaudio.load(self.files[idx])\n",
    "        if x.shape[1] < self.audio_len:\n",
    "            x = torch.nn.functional.pad(x, (0, self.audio_len-x.shape[1]), value=0)\n",
    "        \n",
    "        x = x[0]\n",
    "        for t in self.transform:\n",
    "            x = t(x)\n",
    "\n",
    "        label = self.files[idx].split('.')[-2].split('_')[-1]\n",
    "        return x, label\n",
    "    \n",
    "\n",
    "class TestDataset(torch.utils.data.Dataset):\n",
    "    def __init__(self, data_dir='data1/test', audio_len = 16000):\n",
    "        self.audio_len = audio_len       \n",
    "        self.files = sorted(glob.glob(data_dir+'/*.wav'))        \n",
    "        print(len(self.files))\n",
    "\n",
    "    def __len__(self):\n",
    "        return len(self.files)\n",
    "\n",
    "    def __getitem__(self, idx):\n",
    "        x, fs = torchaudio.load(self.files[idx])\n",
    "        if x.shape[1] < self.audio_len:\n",
    "            x = torch.nn.functional.pad(x, (0, self.audio_len-x.shape[1]), value=0)\n",
    "        \n",
    "        x = x[0]\n",
    "        label = self.files[idx].split('.')[-2].split('_')[-1]\n",
    "        return x, label\n",
    "\n",
    "trainset = TrainDataset()\n",
    "testset = TestDataset()\n",
    "\n",
    "x, y = trainset[0]\n",
    "print(x.shape, y)"
   ]
  }
 ],
 "metadata": {
  "language_info": {
   "codemirror_mode": {
    "name": "ipython",
    "version": 3
   },
   "file_extension": ".py",
   "mimetype": "text/x-python",
   "name": "python",
   "nbconvert_exporter": "python",
   "pygments_lexer": "ipython3",
   "version": "3.9.7"
  }
 },
 "nbformat": 4,
 "nbformat_minor": 5
}
