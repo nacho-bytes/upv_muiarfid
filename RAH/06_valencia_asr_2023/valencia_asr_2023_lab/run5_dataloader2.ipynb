{
 "cells": [
  {
   "cell_type": "code",
   "execution_count": 1,
   "id": "11db9cee",
   "metadata": {
    "collapsed": false,
    "execution": {
     "iopub.execute_input": "2023-11-30T23:02:30.269609Z",
     "iopub.status.busy": "2023-11-30T23:02:30.268677Z",
     "iopub.status.idle": "2023-11-30T23:02:31.603297Z",
     "shell.execute_reply": "2023-11-30T23:02:31.602640Z"
    }
   },
   "outputs": [],
   "source": [
    "import torch, torchaudio, glob\n",
    "import numpy as np\n",
    "import scipy.signal"
   ]
  },
  {
   "cell_type": "markdown",
   "id": "1e7513b4",
   "metadata": {},
   "source": [
    "# Dataset with augmentation\n",
    "\n",
    "Sample of trainset and testset using torch.utils.data.Dataset class and augmentation with noise and RIR."
   ]
  },
  {
   "cell_type": "code",
   "execution_count": 2,
   "id": "2fa0c179",
   "metadata": {
    "collapsed": false,
    "execution": {
     "iopub.execute_input": "2023-11-30T23:02:31.605877Z",
     "iopub.status.busy": "2023-11-30T23:02:31.605636Z",
     "iopub.status.idle": "2023-11-30T23:02:31.849859Z",
     "shell.execute_reply": "2023-11-30T23:02:31.849446Z"
    }
   },
   "outputs": [
    {
     "name": "stdout",
     "output_type": "stream",
     "text": [
      "25000\n",
      "25000\n"
     ]
    }
   ],
   "source": [
    "def identity(x):\n",
    "    return x\n",
    "\n",
    "\n",
    "\n",
    "class NoiseAug(object):\n",
    "    def __init__(self, noise_dir='musan_small/', prob=0.5):\n",
    "        self.prob = prob\n",
    "        self.noises = glob.glob(noise_dir+'/*/*.wav')\n",
    "        \n",
    "    def __call__(self, x):\n",
    "        if np.random.uniform() < self.prob:\n",
    "            n = torchaudio.load( np.random.choice(self.noises) )[0][0]            \n",
    "            if len(n) < len(x):\n",
    "                n = torch.nn.functional.pad(n, (0, len(x)-len(n)), value=0)\n",
    "            elif len(n) > len(x):\n",
    "                t0 = np.random.randint(0, len(n) - len(x))\n",
    "                n = n[t0:t0+len(x)]\n",
    "            n = n.numpy()\n",
    "            p_x = x.std()**2\n",
    "            p_n = n.std()**2\n",
    "            snr = np.random.uniform(5, 15)\n",
    "            n = n * np.sqrt(p_x/p_n) * np.power(10, -snr/20)\n",
    "            x = x + n\n",
    "        return x\n",
    "    \n",
    "class RIRAug(object):\n",
    "    def __init__(self, rir_dir='RIRS_NOISES_small/simulated_rirs_small/', prob=0.5):\n",
    "        self.prob = prob\n",
    "        self.rirs = glob.glob(rir_dir+'/*.wav') \n",
    "\n",
    "    def __call__(self, x):\n",
    "        if np.random.uniform() < self.prob:\n",
    "            n = len(x)\n",
    "            rir = torchaudio.load( np.random.choice(self.rirs) )[0][0]\n",
    "            rir = rir.numpy()\n",
    "            rir = rir / np.max(np.abs(rir))\n",
    "            x = scipy.signal.convolve(x, rir)\n",
    "            t0 = np.argmax(np.abs(rir))\n",
    "            x = x[t0:t0+n]\n",
    "        return x\n",
    "\n",
    "\n",
    "def identity(x):\n",
    "    return x\n",
    "\n",
    "class TrainDataset(torch.utils.data.Dataset):\n",
    "    def __init__(self, data_dir='data1/train', audio_len = 16000, transform=[identity]):        \n",
    "        self.transform = transform\n",
    "        self.audio_len = audio_len\n",
    "        self.files = sorted( glob.glob(data_dir+'/*.wav') )        \n",
    "        print(len(self.files))\n",
    "\n",
    "    def __len__(self):\n",
    "        return len(self.files)\n",
    "\n",
    "    def __getitem__(self, idx):\n",
    "        x, fs = torchaudio.load(self.files[idx])\n",
    "        if x.shape[1] < self.audio_len:\n",
    "            x = torch.nn.functional.pad(x, (0, self.audio_len-x.shape[1]), value=0)\n",
    "        \n",
    "        x = x[0].numpy()\n",
    "        for t in self.transform:\n",
    "            x = t(x)\n",
    "\n",
    "        label = self.files[idx].split('.')[-2].split('_')[-1]\n",
    "        # print(x.shape, x.dtype)\n",
    "        return x, int(label)\n",
    "    \n",
    "\n",
    "class TestDataset(torch.utils.data.Dataset):\n",
    "    def __init__(self, data_dir='data1/test', audio_len = 16000):\n",
    "        self.audio_len = audio_len       \n",
    "        self.files = sorted(glob.glob(data_dir+'/*.wav'))        \n",
    "        print(len(self.files))\n",
    "\n",
    "    def __len__(self):\n",
    "        return len(self.files)\n",
    "\n",
    "    def __getitem__(self, idx):\n",
    "        x, fs = torchaudio.load(self.files[idx])\n",
    "        if x.shape[1] < self.audio_len:\n",
    "            x = torch.nn.functional.pad(x, (0, self.audio_len-x.shape[1]), value=0)\n",
    "        \n",
    "        x = x[0]\n",
    "        label = self.files[idx].split('.')[-2].split('_')[-1]\n",
    "        # print(x.shape, x.dtype)\n",
    "        return x, int(label)\n",
    "\n",
    "trainset = TrainDataset(transform=[NoiseAug(prob=1.0)])\n",
    "x, y = trainset[0]\n",
    "torchaudio.save('out/trainset_noise.wav', torch.tensor(x)[None,...].float(), 16000)\n",
    "\n",
    "trainset = TrainDataset(transform=[RIRAug(prob=1.0)])\n",
    "x, y = trainset[0]\n",
    "torchaudio.save('out/trainset_rir.wav', torch.tensor(x)[None,...].float(), 16000)"
   ]
  }
 ],
 "metadata": {
  "language_info": {
   "codemirror_mode": {
    "name": "ipython",
    "version": 3
   },
   "file_extension": ".py",
   "mimetype": "text/x-python",
   "name": "python",
   "nbconvert_exporter": "python",
   "pygments_lexer": "ipython3",
   "version": "3.9.7"
  }
 },
 "nbformat": 4,
 "nbformat_minor": 5
}
