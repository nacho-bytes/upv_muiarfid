{
 "cells": [
  {
   "cell_type": "code",
   "execution_count": 1,
   "id": "445d6bb4",
   "metadata": {
    "collapsed": false,
    "execution": {
     "iopub.execute_input": "2023-11-30T22:06:36.569878Z",
     "iopub.status.busy": "2023-11-30T22:06:36.569530Z",
     "iopub.status.idle": "2023-11-30T22:06:37.669421Z",
     "shell.execute_reply": "2023-11-30T22:06:37.668768Z"
    }
   },
   "outputs": [],
   "source": [
    "import torch\n",
    "import torch, torchaudio, glob\n",
    "import random\n",
    "import numpy as np \n",
    "\n",
    "def seed_everything(seed):      \n",
    "    random.seed(seed)\n",
    "    np.random.seed(seed)\n",
    "    torch.manual_seed(seed)\n",
    "    torch.cuda.manual_seed(seed)\n",
    "    torch.backends.cudnn.deterministic = True\n",
    "    torch.backends.cudnn.benchmark = True\n",
    "seed_everything(42)"
   ]
  },
  {
   "cell_type": "markdown",
   "id": "3b193431",
   "metadata": {},
   "source": [
    "# Transformer Encoder\n",
    "\n",
    "The transformer encoder is a stack of self-attention and feed-forward layers."
   ]
  },
  {
   "cell_type": "code",
   "execution_count": 2,
   "id": "59273f99",
   "metadata": {
    "collapsed": false,
    "execution": {
     "iopub.execute_input": "2023-11-30T22:06:37.671959Z",
     "iopub.status.busy": "2023-11-30T22:06:37.671679Z",
     "iopub.status.idle": "2023-11-30T22:06:37.690314Z",
     "shell.execute_reply": "2023-11-30T22:06:37.689984Z"
    }
   },
   "outputs": [],
   "source": [
    "class FeedForward(torch.nn.Module):\n",
    "    def __init__(self, d_model=512, d_ff=1024, dropout=0.1, **kwargs):\n",
    "        super().__init__()\n",
    "        self.ff = torch.nn.Sequential(\n",
    "            torch.nn.LayerNorm(d_model),\n",
    "            torch.nn.Linear(d_model, d_ff),\n",
    "            torch.nn.ReLU(),\n",
    "            torch.nn.Dropout(dropout),\n",
    "            torch.nn.Linear(d_ff, d_model),\n",
    "        )\n",
    "        \n",
    "    def forward(self, x):\n",
    "        return self.ff(x)\n",
    "\n",
    "class SelfAttention(torch.nn.Module):\n",
    "    def __init__(self, d_model, n_heads=8, d_head=64, dropout=0.1, **kwargs):\n",
    "        super().__init__()\n",
    "        self.d_model = d_model\n",
    "        self.n_heads = n_heads\n",
    "        self.d_head = d_head\n",
    "        self.scale = torch.sqrt(torch.tensor(d_head, dtype=torch.float32))\n",
    "        self.norm = torch.nn.LayerNorm(d_model)\n",
    "        self.q_linear = torch.nn.Linear(d_model, d_head*n_heads)\n",
    "        self.v_linear = torch.nn.Linear(d_model, d_head*n_heads)\n",
    "        self.k_linear = torch.nn.Linear(d_model, d_head*n_heads)\n",
    "        self.dropout = torch.nn.Dropout(dropout)\n",
    "        self.out = torch.nn.Linear(d_head*n_heads, d_model)\n",
    "\n",
    "    def forward(self, x):\n",
    "        x = self.norm(x)\n",
    "        bs = x.shape[0]\n",
    "        q = self.q_linear(x).view(bs, -1, self.n_heads, self.d_head)\n",
    "        k = self.k_linear(x).view(bs, -1, self.n_heads, self.d_head)\n",
    "        v = self.v_linear(x).view(bs, -1, self.n_heads, self.d_head) \n",
    "\n",
    "        q = q.permute(0, 2, 1, 3)\n",
    "        k = k.permute(0, 2, 3, 1)\n",
    "        v = v.permute(0, 2, 1, 3)\n",
    "        scores = torch.matmul(q, k) / self.scale\n",
    "\n",
    "        att = torch.nn.functional.softmax(scores, dim=-1)\n",
    "        att = self.dropout(att)\n",
    "\n",
    "        out = torch.matmul(att, v).permute(0, 2, 1, 3).reshape(bs, -1, self.n_heads*self.d_head)\n",
    "        \n",
    "        out = self.dropout(out)\n",
    "        out = self.out(out)\n",
    "\n",
    "        return out\n",
    "\n",
    "class Encoder(torch.nn.Module):\n",
    "    def __init__(self, nb_layers=6, seq_len=200, **kwargs):\n",
    "        super().__init__()        \n",
    "        self.pos = torch.nn.Parameter(torch.randn(1, seq_len, kwargs['d_model']))\n",
    "        self.att = torch.nn.ModuleList([SelfAttention(**kwargs) for _ in range(nb_layers)])\n",
    "        self.ff = torch.nn.ModuleList([FeedForward(**kwargs) for _ in range(nb_layers)])\n",
    "        \n",
    "    def forward(self, x):\n",
    "        b, t, d = x.shape\n",
    "        x = x + self.pos[:, :t, :]\n",
    "        for att, ff in zip(self.att, self.ff):\n",
    "            x = x + att(x)\n",
    "            x = x + ff(x)            \n",
    "        return x"
   ]
  },
  {
   "cell_type": "markdown",
   "id": "45c045ef",
   "metadata": {},
   "source": [
    "# Feature Extractor\n",
    "\n",
    "The feature extractor is composed of a log mel-spectrogram and a linear layer."
   ]
  },
  {
   "cell_type": "code",
   "execution_count": 3,
   "id": "51174422",
   "metadata": {
    "collapsed": false,
    "execution": {
     "iopub.execute_input": "2023-11-30T22:06:37.692161Z",
     "iopub.status.busy": "2023-11-30T22:06:37.692001Z",
     "iopub.status.idle": "2023-11-30T22:06:37.703827Z",
     "shell.execute_reply": "2023-11-30T22:06:37.703503Z"
    }
   },
   "outputs": [],
   "source": [
    "class AudioFeatures(torch.nn.Module):\n",
    "    def __init__(self, feat_dim=80, d_model=512, **kwargs):\n",
    "        super().__init__()\n",
    "        self.fe = torchaudio.transforms.MelSpectrogram(\n",
    "                        n_fft=512, \n",
    "                        win_length=25*16, \n",
    "                        hop_length=10*16, \n",
    "                        n_mels=feat_dim)                            # 25ms window, 10ms shift\n",
    "        self.linear = torch.nn.Linear(feat_dim, d_model)\n",
    "\n",
    "    def forward(self, x): \n",
    "        x = self.fe(x)\n",
    "        x = (x+1e-6).log().transpose(1, 2)\n",
    "        x = self.linear(x)\n",
    "        return x\n",
    "    "
   ]
  },
  {
   "cell_type": "markdown",
   "id": "37bc58fc",
   "metadata": {},
   "source": [
    "# Classification network\n",
    "\n",
    "The classification network is composed of an audio feature extractor and a transformer encoder.\n",
    "The prediction is the mean of the transformer encoder output."
   ]
  },
  {
   "cell_type": "code",
   "execution_count": 4,
   "id": "cde3e6d3",
   "metadata": {
    "collapsed": false,
    "execution": {
     "iopub.execute_input": "2023-11-30T22:06:37.705711Z",
     "iopub.status.busy": "2023-11-30T22:06:37.705551Z",
     "iopub.status.idle": "2023-11-30T22:06:37.746378Z",
     "shell.execute_reply": "2023-11-30T22:06:37.745949Z"
    }
   },
   "outputs": [
    {
     "name": "stdout",
     "output_type": "stream",
     "text": [
      "torch.Size([10, 10])\n"
     ]
    }
   ],
   "source": [
    "class ClassificationNetwork(torch.nn.Module):\n",
    "    def __init__(self, output_dim, feat_dim=80, **kwargs):\n",
    "        super().__init__()\n",
    "        self.fe = AudioFeatures(**kwargs)\n",
    "        self.encoder = Encoder(**kwargs)\n",
    "        self.norm = torch.nn.LayerNorm(kwargs['d_model'])\n",
    "        self.out = torch.nn.Linear(kwargs['d_model'], output_dim)\n",
    "\n",
    "    def forward(self, x): \n",
    "        x = self.fe(x)\n",
    "        x = self.encoder(x)\n",
    "        x = self.norm(x)\n",
    "        x = x.mean(1)\n",
    "        x = self.out(x)\n",
    "        return x\n",
    "\n",
    "model = ClassificationNetwork(output_dim=10,\n",
    "                              d_model=256, \n",
    "                              n_heads=4, \n",
    "                              d_head=32, \n",
    "                              dropout=0.1, \n",
    "                              d_ff=256, \n",
    "                              nb_layers=4)\n",
    "\n",
    "\n",
    "print( model(torch.randn(10, 16000)).shape )"
   ]
  },
  {
   "cell_type": "markdown",
   "id": "310f84e7",
   "metadata": {},
   "source": [
    "# Dataset "
   ]
  },
  {
   "cell_type": "code",
   "execution_count": 5,
   "id": "59dbc86b",
   "metadata": {
    "collapsed": false,
    "execution": {
     "iopub.execute_input": "2023-11-30T22:06:37.748554Z",
     "iopub.status.busy": "2023-11-30T22:06:37.748373Z",
     "iopub.status.idle": "2023-11-30T22:06:37.811231Z",
     "shell.execute_reply": "2023-11-30T22:06:37.810863Z"
    }
   },
   "outputs": [
    {
     "name": "stdout",
     "output_type": "stream",
     "text": [
      "25000\n",
      "5000\n"
     ]
    }
   ],
   "source": [
    "def identity(x):\n",
    "    return x\n",
    "\n",
    "class TrainDataset(torch.utils.data.Dataset):\n",
    "    def __init__(self, data_dir='data1/train', audio_len = 16000, transform=[identity]):        \n",
    "        self.transform = transform\n",
    "        self.audio_len = audio_len\n",
    "        self.files = sorted( glob.glob(data_dir+'/*.wav') )        \n",
    "        print(len(self.files))\n",
    "\n",
    "    def __len__(self):\n",
    "        return len(self.files)\n",
    "\n",
    "    def __getitem__(self, idx):\n",
    "        x, fs = torchaudio.load(self.files[idx])\n",
    "        if x.shape[1] < self.audio_len:\n",
    "            x = torch.nn.functional.pad(x, (0, self.audio_len-x.shape[1]), value=0)\n",
    "        \n",
    "        x = x[0]\n",
    "        for t in self.transform:\n",
    "            x = t(x)\n",
    "\n",
    "        label = self.files[idx].split('.')[-2].split('_')[-1]\n",
    "        return x, int(label)\n",
    "    \n",
    "\n",
    "class TestDataset(torch.utils.data.Dataset):\n",
    "    def __init__(self, data_dir='data1/test', audio_len = 16000):\n",
    "        self.audio_len = audio_len       \n",
    "        self.files = sorted(glob.glob(data_dir+'/*.wav'))        \n",
    "        print(len(self.files))\n",
    "\n",
    "    def __len__(self):\n",
    "        return len(self.files)\n",
    "\n",
    "    def __getitem__(self, idx):\n",
    "        x, fs = torchaudio.load(self.files[idx])\n",
    "        if x.shape[1] < self.audio_len:\n",
    "            x = torch.nn.functional.pad(x, (0, self.audio_len-x.shape[1]), value=0)\n",
    "        \n",
    "        x = x[0]\n",
    "        label = self.files[idx].split('.')[-2].split('_')[-1]\n",
    "        return x, int(label)\n",
    "\n",
    "trainset = TrainDataset()\n",
    "testset = TestDataset()"
   ]
  },
  {
   "cell_type": "markdown",
   "id": "46b848fc",
   "metadata": {},
   "source": [
    "# Train the network"
   ]
  },
  {
   "cell_type": "code",
   "execution_count": 6,
   "id": "e252035f",
   "metadata": {
    "collapsed": false,
    "execution": {
     "iopub.execute_input": "2023-11-30T22:06:37.813057Z",
     "iopub.status.busy": "2023-11-30T22:06:37.812884Z",
     "iopub.status.idle": "2023-11-30T22:07:31.072598Z",
     "shell.execute_reply": "2023-11-30T22:07:31.072079Z"
    }
   },
   "outputs": [
    {
     "name": "stderr",
     "output_type": "stream",
     "text": [
      "/scratch/cadrete/software/miniconda3/lib/python3.9/site-packages/requests/__init__.py:102: RequestsDependencyWarning: urllib3 (1.26.7) or chardet (5.0.0)/charset_normalizer (2.0.4) doesn't match a supported version!\n",
      "  warnings.warn(\"urllib3 ({}) or chardet ({})/charset_normalizer ({}) doesn't match a supported \"\n"
     ]
    },
    {
     "name": "stdout",
     "output_type": "stream",
     "text": [
      "epoch 0, loss 0.3187\n",
      "epoch 1, loss 0.0573\n",
      "epoch 2, loss 0.0414\n",
      "epoch 3, loss 0.0371\n",
      "epoch 4, loss 0.0257\n"
     ]
    }
   ],
   "source": [
    "device = 'cuda'\n",
    "model.to(device)\n",
    "opt = torch.optim.Adam(model.parameters(), lr=1e-3)\n",
    "\n",
    "nb_epochs = 5\n",
    "batch_size = 32\n",
    "model.train()   \n",
    "trainloader = torch.utils.data.DataLoader(trainset, batch_size=batch_size, shuffle=True)\n",
    "for e in range(nb_epochs):\n",
    "    loss_sum = 0    \n",
    "    for x, y in trainloader:\n",
    "        x = x.to(device)\n",
    "        y = y.to(device)\n",
    "        opt.zero_grad()\n",
    "        out = model(x)\n",
    "        # print(out.shape, y.shape)\n",
    "        loss = torch.nn.functional.cross_entropy(out, y)\n",
    "        loss.backward()\n",
    "        opt.step()\n",
    "        loss_sum += loss.item() / len(trainloader)\n",
    "    print('epoch %d, loss %.4f' % (e, loss_sum))\n",
    "\n",
    "# torch.save([model, opt], 'model60.pt')"
   ]
  },
  {
   "cell_type": "markdown",
   "id": "64a962ad",
   "metadata": {},
   "source": [
    "# Test the network"
   ]
  },
  {
   "cell_type": "code",
   "execution_count": 7,
   "id": "8dd35ea5",
   "metadata": {
    "collapsed": false,
    "execution": {
     "iopub.execute_input": "2023-11-30T22:07:31.074665Z",
     "iopub.status.busy": "2023-11-30T22:07:31.074459Z",
     "iopub.status.idle": "2023-11-30T22:07:43.807237Z",
     "shell.execute_reply": "2023-11-30T22:07:43.806731Z"
    }
   },
   "outputs": [
    {
     "name": "stdout",
     "output_type": "stream",
     "text": [
      "error rate: 0.0218\n"
     ]
    }
   ],
   "source": [
    "model.eval()\n",
    "\n",
    "err = 0\n",
    "for x, y in testset:\n",
    "    x = x.to(device)\n",
    "    \n",
    "    out = model(x[None,...])\n",
    "    y_pred = out.argmax(dim=1).item()\n",
    "    # print(y_pred, y)\n",
    "    if y_pred != y:\n",
    "        err += 1\n",
    "\n",
    "print('error rate: %.4f' % (err/len(testset)))"
   ]
  }
 ],
 "metadata": {
  "language_info": {
   "codemirror_mode": {
    "name": "ipython",
    "version": 3
   },
   "file_extension": ".py",
   "mimetype": "text/x-python",
   "name": "python",
   "nbconvert_exporter": "python",
   "pygments_lexer": "ipython3",
   "version": "3.9.7"
  }
 },
 "nbformat": 4,
 "nbformat_minor": 5
}
