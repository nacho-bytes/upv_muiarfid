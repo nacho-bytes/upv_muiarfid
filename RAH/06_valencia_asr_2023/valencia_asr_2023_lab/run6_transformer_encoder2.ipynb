{
 "cells": [
  {
   "cell_type": "code",
   "execution_count": 1,
   "id": "becc8a32",
   "metadata": {
    "collapsed": false,
    "execution": {
     "iopub.execute_input": "2023-11-30T22:28:25.637240Z",
     "iopub.status.busy": "2023-11-30T22:28:25.636311Z",
     "iopub.status.idle": "2023-11-30T22:28:26.769563Z",
     "shell.execute_reply": "2023-11-30T22:28:26.768908Z"
    }
   },
   "outputs": [],
   "source": [
    "import torch\n",
    "import torch, torchaudio, glob\n",
    "import random\n",
    "import numpy as np  \n",
    "\n",
    "def seed_everything(seed):      \n",
    "    random.seed(seed)\n",
    "    np.random.seed(seed)\n",
    "    torch.manual_seed(seed)\n",
    "    torch.cuda.manual_seed(seed)\n",
    "    torch.backends.cudnn.deterministic = True\n",
    "    torch.backends.cudnn.benchmark = True\n",
    "seed_everything(42)"
   ]
  },
  {
   "cell_type": "markdown",
   "id": "71a59282",
   "metadata": {},
   "source": [
    "# Transformer Encoder\n",
    "\n",
    "The transformer encoder is a stack of self-attention and feed-forward layers."
   ]
  },
  {
   "cell_type": "code",
   "execution_count": 2,
   "id": "4a99b252",
   "metadata": {
    "collapsed": false,
    "execution": {
     "iopub.execute_input": "2023-11-30T22:28:26.772284Z",
     "iopub.status.busy": "2023-11-30T22:28:26.771985Z",
     "iopub.status.idle": "2023-11-30T22:28:26.790462Z",
     "shell.execute_reply": "2023-11-30T22:28:26.790135Z"
    }
   },
   "outputs": [],
   "source": [
    "class FeedForward(torch.nn.Module):\n",
    "    def __init__(self, d_model=512, d_ff=1024, dropout=0.1, **kwargs):\n",
    "        super().__init__()\n",
    "        self.ff = torch.nn.Sequential(\n",
    "            torch.nn.LayerNorm(d_model),\n",
    "            torch.nn.Linear(d_model, d_ff),\n",
    "            torch.nn.ReLU(),\n",
    "            torch.nn.Dropout(dropout),\n",
    "            torch.nn.Linear(d_ff, d_model),\n",
    "        )\n",
    "        \n",
    "    def forward(self, x):\n",
    "        return self.ff(x)\n",
    "\n",
    "class SelfAttention(torch.nn.Module):\n",
    "    def __init__(self, d_model, n_heads=8, d_head=64, dropout=0.1, **kwargs):\n",
    "        super().__init__()\n",
    "        self.d_model = d_model\n",
    "        self.n_heads = n_heads\n",
    "        self.d_head = d_head\n",
    "        self.scale = torch.sqrt(torch.tensor(d_head, dtype=torch.float32))\n",
    "        self.norm = torch.nn.LayerNorm(d_model)\n",
    "        self.q_linear = torch.nn.Linear(d_model, d_head*n_heads)\n",
    "        self.v_linear = torch.nn.Linear(d_model, d_head*n_heads)\n",
    "        self.k_linear = torch.nn.Linear(d_model, d_head*n_heads)\n",
    "        self.dropout = torch.nn.Dropout(dropout)\n",
    "        self.out = torch.nn.Linear(d_head*n_heads, d_model)\n",
    "\n",
    "    def forward(self, x):\n",
    "        x = self.norm(x)\n",
    "        b = x.shape[0]\n",
    "        q = self.q_linear(x).view(b, -1, self.n_heads, self.d_head)\n",
    "        k = self.k_linear(x).view(b, -1, self.n_heads, self.d_head)\n",
    "        v = self.v_linear(x).view(b, -1, self.n_heads, self.d_head) \n",
    "        scores = torch.einsum('bihd,bjhd->bhij', q, k) / self.scale       \n",
    "        att = scores.softmax(dim=-1)\n",
    "        att = self.dropout(att)\n",
    "        out = torch.einsum('bhij,bjhd->bihd', att, v).reshape(b, -1, self.n_heads*self.d_head)\n",
    "        out = self.dropout(out)\n",
    "        out = self.out(out)\n",
    "        return out\n",
    "\n",
    "class Encoder(torch.nn.Module):\n",
    "    def __init__(self, nb_layers=6, seq_len=200, **kwargs):\n",
    "        super().__init__()        \n",
    "        self.pos = torch.nn.Parameter(torch.randn(1, seq_len, kwargs['d_model']))\n",
    "        self.att = torch.nn.ModuleList([SelfAttention(**kwargs) for _ in range(nb_layers)])\n",
    "        self.ff = torch.nn.ModuleList([FeedForward(**kwargs) for _ in range(nb_layers)])\n",
    "        \n",
    "    def forward(self, x):\n",
    "        b, t, d = x.shape\n",
    "        x = x + self.pos[:, :t, :]\n",
    "        for att, ff in zip(self.att, self.ff):\n",
    "            x = x + att(x)\n",
    "            x = x + ff(x)            \n",
    "        return x\n",
    "    "
   ]
  },
  {
   "cell_type": "markdown",
   "id": "445a1a1b",
   "metadata": {},
   "source": [
    "# Feature Extractor\n",
    "\n",
    "The feature extractor is composed of a pre-trained wav2vec2 model and a linear layer.\n",
    "The output of the convolutional layers of the wav2vec2 model is used as features."
   ]
  },
  {
   "cell_type": "code",
   "execution_count": 3,
   "id": "10868529",
   "metadata": {
    "collapsed": false,
    "execution": {
     "iopub.execute_input": "2023-11-30T22:28:26.792449Z",
     "iopub.status.busy": "2023-11-30T22:28:26.792286Z",
     "iopub.status.idle": "2023-11-30T22:28:26.805224Z",
     "shell.execute_reply": "2023-11-30T22:28:26.804770Z"
    }
   },
   "outputs": [],
   "source": [
    "class PretrainedFeatures(torch.nn.Module):\n",
    "    def __init__(self, freeze=True, d_model=512, **kwargs):\n",
    "        super().__init__()\n",
    "        from transformers import WavLMModel\n",
    "        self.fe = WavLMModel.from_pretrained(\"patrickvonplaten/wavlm-libri-clean-100h-base-plus\")\n",
    "        self.linear = torch.nn.Linear(512, d_model)\n",
    "        if freeze:\n",
    "            for p in self.fe.parameters():\n",
    "                p.requires_grad = False\n",
    "\n",
    "    def forward(self, x): \n",
    "        with torch.no_grad():\n",
    "            x = self.fe.feature_extractor(x)\n",
    "            \n",
    "        x = x.transpose(1, 2)\n",
    "        x = self.linear(x)\n",
    "        return x"
   ]
  },
  {
   "cell_type": "markdown",
   "id": "48f552cf",
   "metadata": {},
   "source": [
    "# Classification network\n",
    "\n",
    "The classification network is composed of an audio feature extractor and a transformer encoder.\n",
    "The prediction is the mean of the transformer encoder output."
   ]
  },
  {
   "cell_type": "code",
   "execution_count": 4,
   "id": "5ddb62c8",
   "metadata": {
    "collapsed": false,
    "execution": {
     "iopub.execute_input": "2023-11-30T22:28:26.807282Z",
     "iopub.status.busy": "2023-11-30T22:28:26.807111Z",
     "iopub.status.idle": "2023-11-30T22:28:28.356791Z",
     "shell.execute_reply": "2023-11-30T22:28:28.356348Z"
    }
   },
   "outputs": [
    {
     "name": "stderr",
     "output_type": "stream",
     "text": [
      "/scratch/cadrete/software/miniconda3/lib/python3.9/site-packages/requests/__init__.py:102: RequestsDependencyWarning: urllib3 (1.26.7) or chardet (5.0.0)/charset_normalizer (2.0.4) doesn't match a supported version!\n",
      "  warnings.warn(\"urllib3 ({}) or chardet ({})/charset_normalizer ({}) doesn't match a supported \"\n",
      "Some weights of WavLMModel were not initialized from the model checkpoint at patrickvonplaten/wavlm-libri-clean-100h-base-plus and are newly initialized: ['wavlm.encoder.pos_conv_embed.conv.parametrizations.weight.original0', 'wavlm.encoder.pos_conv_embed.conv.parametrizations.weight.original1']\n",
      "You should probably TRAIN this model on a down-stream task to be able to use it for predictions and inference.\n"
     ]
    },
    {
     "name": "stdout",
     "output_type": "stream",
     "text": [
      "torch.Size([10, 10])\n"
     ]
    }
   ],
   "source": [
    "class ClassificationNetwork(torch.nn.Module):\n",
    "    def __init__(self, output_dim, feat_dim=80, **kwargs):\n",
    "        super().__init__()\n",
    "        self.fe = PretrainedFeatures(**kwargs)\n",
    "        self.encoder = Encoder(**kwargs)\n",
    "        self.norm = torch.nn.LayerNorm(kwargs['d_model'])\n",
    "        self.out = torch.nn.Linear(kwargs['d_model'], output_dim)\n",
    "\n",
    "    def forward(self, x): \n",
    "        x = self.fe(x)\n",
    "        x = self.encoder(x)\n",
    "        x = self.norm(x)\n",
    "        x = x.mean(1)\n",
    "        x = self.out(x)\n",
    "        return x\n",
    "    \n",
    "model = ClassificationNetwork(output_dim=10, \n",
    "                              d_model=256, \n",
    "                              n_heads=4, \n",
    "                              d_head=32, \n",
    "                              dropout=0.1, \n",
    "                              d_ff=256, \n",
    "                              nb_layers=4)\n",
    "\n",
    "\n",
    "print( model(torch.randn(10, 16000)).shape )"
   ]
  },
  {
   "cell_type": "markdown",
   "id": "70d9131d",
   "metadata": {},
   "source": [
    "# Dataset "
   ]
  },
  {
   "cell_type": "code",
   "execution_count": 5,
   "id": "854a3cc6",
   "metadata": {
    "collapsed": false,
    "execution": {
     "iopub.execute_input": "2023-11-30T22:28:28.358912Z",
     "iopub.status.busy": "2023-11-30T22:28:28.358727Z",
     "iopub.status.idle": "2023-11-30T22:28:28.420147Z",
     "shell.execute_reply": "2023-11-30T22:28:28.419657Z"
    }
   },
   "outputs": [
    {
     "name": "stdout",
     "output_type": "stream",
     "text": [
      "25000\n",
      "5000\n"
     ]
    }
   ],
   "source": [
    "def identity(x):\n",
    "    return x\n",
    "\n",
    "class TrainDataset(torch.utils.data.Dataset):\n",
    "    def __init__(self, data_dir='data1/train', audio_len = 16000, transform=[identity]):        \n",
    "        self.transform = transform\n",
    "        self.audio_len = audio_len\n",
    "        self.files = sorted( glob.glob(data_dir+'/*.wav') )        \n",
    "        print(len(self.files))\n",
    "\n",
    "    def __len__(self):\n",
    "        return len(self.files)\n",
    "\n",
    "    def __getitem__(self, idx):\n",
    "        x, fs = torchaudio.load(self.files[idx])\n",
    "        if x.shape[1] < self.audio_len:\n",
    "            x = torch.nn.functional.pad(x, (0, self.audio_len-x.shape[1]), value=0)\n",
    "        \n",
    "        x = x[0]\n",
    "        for t in self.transform:\n",
    "            x = t(x)\n",
    "\n",
    "        label = self.files[idx].split('.')[-2].split('_')[-1]\n",
    "        return x, int(label)\n",
    "    \n",
    "\n",
    "class TestDataset(torch.utils.data.Dataset):\n",
    "    def __init__(self, data_dir='data1/test', audio_len = 16000):\n",
    "        self.audio_len = audio_len       \n",
    "        self.files = sorted(glob.glob(data_dir+'/*.wav'))        \n",
    "        print(len(self.files))\n",
    "\n",
    "    def __len__(self):\n",
    "        return len(self.files)\n",
    "\n",
    "    def __getitem__(self, idx):\n",
    "        x, fs = torchaudio.load(self.files[idx])\n",
    "        if x.shape[1] < self.audio_len:\n",
    "            x = torch.nn.functional.pad(x, (0, self.audio_len-x.shape[1]), value=0)\n",
    "        \n",
    "        x = x[0]\n",
    "        label = self.files[idx].split('.')[-2].split('_')[-1]\n",
    "        return x, int(label)\n",
    "\n",
    "trainset = TrainDataset()\n",
    "testset = TestDataset()"
   ]
  },
  {
   "cell_type": "markdown",
   "id": "4db24f40",
   "metadata": {},
   "source": [
    "# Train the network"
   ]
  },
  {
   "cell_type": "code",
   "execution_count": 6,
   "id": "64e0674f",
   "metadata": {
    "collapsed": false,
    "execution": {
     "iopub.execute_input": "2023-11-30T22:28:28.422255Z",
     "iopub.status.busy": "2023-11-30T22:28:28.422064Z",
     "iopub.status.idle": "2023-11-30T22:29:38.241398Z",
     "shell.execute_reply": "2023-11-30T22:29:38.240863Z"
    }
   },
   "outputs": [
    {
     "name": "stdout",
     "output_type": "stream",
     "text": [
      "epoch 0, loss 0.9540\n",
      "epoch 1, loss 0.2394\n",
      "epoch 2, loss 0.2209\n",
      "epoch 3, loss 0.1741\n",
      "epoch 4, loss 0.1288\n"
     ]
    }
   ],
   "source": [
    "device = 'cuda'\n",
    "model.to(device)\n",
    "opt = torch.optim.Adam(model.parameters(), lr=1e-3)\n",
    "\n",
    "nb_epochs = 5\n",
    "batch_size = 32\n",
    "model.train()   \n",
    "trainloader = torch.utils.data.DataLoader(trainset, batch_size=batch_size, shuffle=True)\n",
    "for e in range(nb_epochs):\n",
    "    loss_sum = 0\n",
    "    for x, y in trainloader:\n",
    "        x = x.to(device)\n",
    "        y = y.to(device)\n",
    "        opt.zero_grad()\n",
    "        out = model(x)\n",
    "        # print(out.shape, y.shape)\n",
    "        loss = torch.nn.functional.cross_entropy(out, y)\n",
    "        loss.backward()\n",
    "        opt.step()\n",
    "        loss_sum += loss.item() / len(trainloader)\n",
    "    print('epoch %d, loss %.4f' % (e, loss_sum))\n",
    "\n",
    "# torch.save([model, opt], 'model62.pt')"
   ]
  },
  {
   "cell_type": "markdown",
   "id": "7c9cabef",
   "metadata": {},
   "source": [
    "# Test the network"
   ]
  },
  {
   "cell_type": "code",
   "execution_count": 7,
   "id": "26e2457a",
   "metadata": {
    "collapsed": false,
    "execution": {
     "iopub.execute_input": "2023-11-30T22:29:38.243540Z",
     "iopub.status.busy": "2023-11-30T22:29:38.243333Z",
     "iopub.status.idle": "2023-11-30T22:29:52.407433Z",
     "shell.execute_reply": "2023-11-30T22:29:52.406925Z"
    }
   },
   "outputs": [
    {
     "name": "stdout",
     "output_type": "stream",
     "text": [
      "error rate: 0.0538\n"
     ]
    }
   ],
   "source": [
    "model.eval()\n",
    "\n",
    "err = 0\n",
    "for x, y in testset:\n",
    "    x = x.to(device)\n",
    "    \n",
    "    out = model(x[None,...])\n",
    "    y_pred = out.argmax(dim=1).item()\n",
    "    # print(y_pred, y)\n",
    "    if y_pred != y:\n",
    "        err += 1\n",
    "\n",
    "print('error rate: %.4f' % (err/len(testset)))"
   ]
  }
 ],
 "metadata": {
  "language_info": {
   "codemirror_mode": {
    "name": "ipython",
    "version": 3
   },
   "file_extension": ".py",
   "mimetype": "text/x-python",
   "name": "python",
   "nbconvert_exporter": "python",
   "pygments_lexer": "ipython3",
   "version": "3.9.7"
  }
 },
 "nbformat": 4,
 "nbformat_minor": 5
}
