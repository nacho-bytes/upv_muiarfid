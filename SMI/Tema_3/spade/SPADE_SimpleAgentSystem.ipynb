{
 "cells": [
  {
   "cell_type": "markdown",
   "metadata": {},
   "source": [
    "# Instalamos SPADE "
   ]
  },
  {
   "cell_type": "code",
   "execution_count": null,
   "metadata": {},
   "outputs": [],
   "source": [
    "pip install spade"
   ]
  },
  {
   "cell_type": "markdown",
   "metadata": {},
   "source": [
    "# Primer ejemplo: Hola Mundo\n",
    "Se crea un agente que simplemente imprime \"Hola Mundo\""
   ]
  },
  {
   "cell_type": "code",
   "execution_count": null,
   "metadata": {},
   "outputs": [],
   "source": [
    "\n",
    "from spade.agent import Agent\n",
    "from spade.behaviour import OneShotBehaviour\n",
    "\n",
    "class SimpleAgent(Agent):\n",
    "    class InformBehaviour(OneShotBehaviour):\n",
    "        async def run(self):\n",
    "            print(\"Hola, soy un agente simple!\")\n",
    "\n",
    "    async def setup(self):\n",
    "        self.add_behaviour(self.InformBehaviour())\n",
    "\n"
   ]
  },
  {
   "cell_type": "markdown",
   "metadata": {},
   "source": [
    "# Importante: cambiar el nombre del agente si usamos el mismo servidor XMPP\n",
    "Por ejemplo, usar el **login** personal como parte del nombre del agente"
   ]
  },
  {
   "cell_type": "code",
   "execution_count": null,
   "metadata": {},
   "outputs": [],
   "source": [
    "agent = SimpleAgent(\"ag1_login@gtirouter.dsic.upv.es\", \"secret\")\n",
    "await agent.start()"
   ]
  },
  {
   "cell_type": "markdown",
   "metadata": {},
   "source": [
    "# Segundo ejemplo: Crear un agente con un comportamiento\n",
    "El agente imprime un valor y finaliza despues de 10 iteraciones"
   ]
  },
  {
   "cell_type": "code",
   "execution_count": null,
   "metadata": {},
   "outputs": [],
   "source": [
    "import asyncio\n",
    "from spade.agent import Agent\n",
    "from spade.behaviour import CyclicBehaviour\n",
    "\n",
    "class DummyAgent(Agent):\n",
    "    class MyBehav(CyclicBehaviour):\n",
    "        async def on_start(self):\n",
    "            print(\"Starting behaviour . . .\")\n",
    "            self.counter = 0\n",
    "\n",
    "        async def run(self):\n",
    "            print(\"Counter: {}\".format(self.counter))\n",
    "            self.counter += 1\n",
    "\n",
    "            if self.counter >= 10:\n",
    "                self.kill()  # Finaliza el comportamiento después de 10 iteraciones\n",
    "            else:\n",
    "                await asyncio.sleep(1)\n",
    "\n",
    "    async def setup(self):\n",
    "        print(\"Agent starting . . .\")\n",
    "        b = self.MyBehav()\n",
    "        self.add_behaviour(b)\n",
    "\n"
   ]
  },
  {
   "cell_type": "code",
   "execution_count": null,
   "metadata": {},
   "outputs": [],
   "source": [
    "dummy = DummyAgent(\"ag1_login@gtirouter.dsic.upv.es\", \"secret\") \n",
    "await dummy.start() \n",
    "print(\"DummyAgent started. Check its console to see the output.\")\n",
    "\n",
    "print(\"Wait until user interrupts with ctrl+C\") \n",
    "await wait_until_finished(dummy) \n"
   ]
  },
  {
   "cell_type": "markdown",
   "metadata": {},
   "source": [
    "# Tercer ejemplo: Sender & Receiver\n"
   ]
  },
  {
   "cell_type": "code",
   "execution_count": null,
   "metadata": {},
   "outputs": [],
   "source": [
    "\n",
    "from spade.agent import Agent\n",
    "from spade.behaviour import OneShotBehaviour\n",
    "from spade.message import Message\n",
    "\n",
    "class SenderAgent(Agent):\n",
    "    class SendBehaviour(OneShotBehaviour):\n",
    "        async def run(self):\n",
    "            msg = Message(to=\"ag2_login@gtirouter.dsic.upv.es\")  # Destinatario\n",
    "            msg.set_metadata(\"performative\", \"inform\")  # Tipo de mensaje\n",
    "            msg.body = \"Hola desde el agente emisor!\"\n",
    "\n",
    "            await self.send(msg)\n",
    "            print(\"Mensaje enviado!\")\n",
    "\n",
    "    async def setup(self):\n",
    "        self.add_behaviour(self.SendBehaviour())\n",
    "\n",
    "class ReceiverAgent(Agent):\n",
    "    class ReceiveBehaviour(OneShotBehaviour):\n",
    "        async def run(self):\n",
    "            msg = await self.receive(timeout=10)  # Espera por un mensaje por 10 segundos\n",
    "            if msg:\n",
    "                print(\"Mensaje recibido:\", msg.body)\n",
    "            else:\n",
    "                print(\"No se recibió ningún mensaje.\")\n",
    "\n",
    "    async def setup(self):\n",
    "        self.add_behaviour(self.ReceiveBehaviour())\n",
    "\n"
   ]
  },
  {
   "cell_type": "code",
   "execution_count": null,
   "metadata": {},
   "outputs": [],
   "source": [
    "sender = SenderAgent(\"ag1_login@gtirouter.dsic.upv.es\", \"secret\")\n",
    "receiver = ReceiverAgent(\"ag2_login@gtirouter.dsic.upv.es\", \"secret\")\n",
    "await receiver.start()\n",
    "await sender.start()\n"
   ]
  },
  {
   "cell_type": "markdown",
   "metadata": {},
   "source": [
    "# Código para generar un ejemplo de sistema multiagente con SPADE donde un agente envía mensajes de forma periódica y otro los recibe e imprime\n"
   ]
  },
  {
   "cell_type": "code",
   "execution_count": null,
   "metadata": {},
   "outputs": [],
   "source": [
    "\n",
    "# Código para el sistema con dos agentes: uno envía mensajes periódicamente y el otro los recibe\n",
    "\n",
    "from spade.agent import Agent\n",
    "from spade.behaviour import CyclicBehaviour, PeriodicBehaviour\n",
    "from spade.message import Message\n",
    "import asyncio\n",
    "\n",
    "class PeriodicSenderAgent(Agent):\n",
    "    class SendPeriodicBehaviour(PeriodicBehaviour):\n",
    "        async def run(self):\n",
    "            msg = Message(to=\"ag2_login@gtirouter.dsic.upv.es\")  # Asegúrate de reemplazar esto con el JID correcto del receptor\n",
    "            msg.set_metadata(\"performative\", \"inform\")\n",
    "            msg.body = \"Mensaje periódico del agente emisor\"\n",
    "\n",
    "            await self.send(msg)\n",
    "            print(\"Mensaje enviado.\")\n",
    "\n",
    "    async def setup(self):\n",
    "        # Ejemplo: enviar un mensaje cada 5 segundos\n",
    "        periodic_behaviour = self.SendPeriodicBehaviour(period=5)\n",
    "        self.add_behaviour(periodic_behaviour)\n",
    "\n",
    "class ReceiverAgent(Agent):\n",
    "    class ReceiveBehaviour(CyclicBehaviour):\n",
    "        async def run(self):\n",
    "            msg = await self.receive(timeout=10)  # Espera por un mensaje por 10 segundos\n",
    "            if msg:\n",
    "                print(\"Mensaje recibido:\", msg.body)\n",
    "            else:\n",
    "                print(\"Tiempo de espera excedido sin recibir mensaje.\")\n",
    "\n",
    "    async def setup(self):\n",
    "        self.add_behaviour(self.ReceiveBehaviour())\n",
    "\n",
    "\n",
    "\n"
   ]
  },
  {
   "cell_type": "code",
   "execution_count": null,
   "metadata": {},
   "outputs": [],
   "source": [
    "# Ejemplo de cómo iniciar y detener los agentes\n",
    "sender = PeriodicSenderAgent(\"ag1_login@gtirouter.dsic.upv.es\", \"secret\")\n",
    "receiver = ReceiverAgent(\"ag2_login@gtirouter.dsic.upv.es\", \"secret\")\n",
    "await receiver.start()\n",
    "await sender.start()\n",
    "\n"
   ]
  },
  {
   "cell_type": "markdown",
   "metadata": {},
   "source": [
    "# Ejemplo donde un agente propone a otros agentes que le envien un dato y simplemente lo almacena"
   ]
  },
  {
   "cell_type": "code",
   "execution_count": null,
   "metadata": {},
   "outputs": [],
   "source": [
    "import spade\n",
    "import asyncio\n",
    "import random\n",
    "\n",
    "class AgentePropositor(spade.agent.Agent):\n",
    "    async def setup(self):\n",
    "        print(f\"{self.name} iniciado\")\n",
    "        self.add_behaviour(self.ProposeBehaviour())\n",
    "\n",
    "    class ProposeBehaviour(spade.behaviour.OneShotBehaviour):\n",
    "        async def run(self):\n",
    "            receivers = [\"agente_receptor1@gtirouter.dsic.upv.es\", \"agente_receptor2@gtirouter.dsic.upv.es\", \"agente_receptor3@gtirouter.dsic.upv.es\"]\n",
    "            for receiver in receivers:\n",
    "                msg = spade.message.Message(\n",
    "                    to=receiver,\n",
    "                    body=\"propuesta\",\n",
    "                    metadata={\"performative\": \"propose\"}\n",
    "                )\n",
    "                await self.send(msg)\n",
    "                print(f\"Propuesta enviada a {receiver}\")\n",
    "\n",
    "            # Esperar y recoger respuestas\n",
    "            self.agent.responses = []\n",
    "            for _ in range(3):\n",
    "                response = await self.receive(timeout=10)\n",
    "                if response:\n",
    "                    self.agent.responses.append(response.body)\n",
    "            print(\"Respuestas recibidas:\", self.agent.responses)\n",
    "\n",
    "class AgenteReceptor(spade.agent.Agent):\n",
    "    async def setup(self):\n",
    "        print(f\"{self.name} iniciado\")\n",
    "        self.add_behaviour(self.ReceiveBehaviour())\n",
    "\n",
    "    class ReceiveBehaviour(spade.behaviour.CyclicBehaviour):\n",
    "        async def run(self):\n",
    "            msg = await self.receive(timeout=10)\n",
    "            if msg:\n",
    "                number = str(random.randint(1, 100))\n",
    "                reply = msg.make_reply()\n",
    "                reply.body = number\n",
    "                await self.send(reply)\n",
    "                print(f\"{self.agent.name} respondió con {number}\")\n",
    "\n"
   ]
  },
  {
   "cell_type": "code",
   "execution_count": null,
   "metadata": {},
   "outputs": [],
   "source": [
    "# Crear agentes\n",
    "agente_propositor = AgentePropositor(\"agente_propositor@gtirouter.dsic.upv.es\", \"secret\")\n",
    "agente_receptor1 = AgenteReceptor(\"agente_receptor1@gtirouter.dsic.upv.es\", \"secret\")\n",
    "agente_receptor2 = AgenteReceptor(\"agente_receptor2@gtirouter.dsic.upv.es\", \"secret\")\n",
    "agente_receptor3 = AgenteReceptor(\"agente_receptor3@gtirouter.dsic.upv.es\", \"secret\")\n",
    "\n",
    "# Iniciar agentes\n",
    "\n",
    "await agente_receptor1.start()\n",
    "await agente_receptor2.start()\n",
    "await agente_receptor3.start()\n",
    "\n",
    "await agente_propositor.start()"
   ]
  },
  {
   "cell_type": "markdown",
   "metadata": {},
   "source": [
    "# Ejemplo de sistema donde un agente proponente envia una propuesta a otros agentes, recibe respuestas, las procesa y selecciona una contestando al elegido que ha sido seleccionado"
   ]
  },
  {
   "cell_type": "code",
   "execution_count": null,
   "metadata": {},
   "outputs": [],
   "source": [
    "import spade\n",
    "import asyncio\n",
    "import random\n",
    "\n",
    "class AgentePropositor(spade.agent.Agent):\n",
    "    async def setup(self):\n",
    "        print(f\"{self.name} iniciado\")\n",
    "        self.add_behaviour(self.ProposeBehaviour())\n",
    "\n",
    "    class ProposeBehaviour(spade.behaviour.OneShotBehaviour):\n",
    "        async def run(self):\n",
    "            receivers = [\"agente_receptor1@gtirouter.dsic.upv.es\", \"agente_receptor2@gtirouter.dsic.upv.es\", \"agente_receptor3@gtirouter.dsic.upv.es\"]\n",
    "            self.agent.responses = {}\n",
    "\n",
    "            # Enviar propuestas a cada receptor\n",
    "            for receiver in receivers:\n",
    "                msg = spade.message.Message(\n",
    "                    to=receiver,\n",
    "                    body=\"propuesta\",\n",
    "                    metadata={\"performative\": \"propose\"}\n",
    "                )\n",
    "                await self.send(msg)\n",
    "                print(f\"Propuesta enviada a {receiver}\")\n",
    "\n",
    "            # Esperar y recoger respuestas\n",
    "            for _ in range(3):\n",
    "                response = await self.receive(timeout=10)\n",
    "                if response:\n",
    "                    self.agent.responses[response.sender.localpart] = response.body\n",
    "\n",
    "            print(\"Respuestas recibidas:\", self.agent.responses)\n",
    "\n",
    "            # Seleccionar y enviar respuesta\n",
    "            if self.agent.responses:\n",
    "                selected_agent, selected_value = random.choice(list(self.agent.responses.items()))\n",
    "                response_msg = spade.message.Message(\n",
    "                    to=f\"{selected_agent}@localhost\",\n",
    "                    body=f\"Tu valor {selected_value} fue seleccionado\",\n",
    "                    metadata={\"performative\": \"inform\"}\n",
    "                )\n",
    "                await self.send(response_msg)\n",
    "                print(f\"Enviada respuesta a {selected_agent} sobre valor seleccionado: {selected_value}\")\n",
    "\n",
    "class AgenteReceptor(spade.agent.Agent):\n",
    "    async def setup(self):\n",
    "        print(f\"{self.name} iniciado\")\n",
    "        self.add_behaviour(self.ReceiveBehaviour())\n",
    "        self.add_behaviour(self.InformBehaviour())\n",
    "\n",
    "    class ReceiveBehaviour(spade.behaviour.CyclicBehaviour):\n",
    "        async def run(self):\n",
    "            msg = await self.receive(timeout=10)\n",
    "            if msg and msg.metadata[\"performative\"] == \"propose\":\n",
    "                number = str(random.randint(1, 100))\n",
    "                reply = msg.make_reply()\n",
    "                reply.body = number\n",
    "                await self.send(reply)\n",
    "                print(f\"{self.agent.name} respondió con {number}\")\n",
    "\n",
    "    class InformBehaviour(spade.behaviour.CyclicBehaviour):\n",
    "        async def run(self):\n",
    "            msg = await self.receive(timeout=10)\n",
    "            if msg and msg.metadata[\"performative\"] == \"inform\":\n",
    "                print(f\"{self.agent.name} recibió mensaje de selección: {msg.body}\")\n",
    "\n",
    "\n",
    "\n"
   ]
  },
  {
   "cell_type": "code",
   "execution_count": null,
   "metadata": {},
   "outputs": [],
   "source": [
    "# Crear agentes\n",
    "agente_propositor = AgentePropositor(\"agente_propositor@gtirouter.dsic.upv.es\", \"secret\")\n",
    "agente_receptor1 = AgenteReceptor(\"agente_receptor1@gtirouter.dsic.upv.es\", \"secret\")\n",
    "agente_receptor2 = AgenteReceptor(\"agente_receptor2@gtirouter.dsic.upv.es\", \"secret\")\n",
    "agente_receptor3 = AgenteReceptor(\"agente_receptor3@gtirouter.dsic.upv.es\", \"secret\")\n",
    "\n",
    "# Iniciar agentes\n",
    "\n",
    "await agente_receptor1.start()\n",
    "await agente_receptor2.start()\n",
    "await agente_receptor3.start()\n",
    "await asyncio.sleep(1)\n",
    "await agente_propositor.start()"
   ]
  },
  {
   "cell_type": "markdown",
   "metadata": {},
   "source": [
    "# Ejemplo generalizado para un proponente y n agentes receptores"
   ]
  },
  {
   "cell_type": "code",
   "execution_count": null,
   "metadata": {},
   "outputs": [],
   "source": [
    "import spade\n",
    "import asyncio\n",
    "import random\n",
    "\n",
    "class AgentePropositor(spade.agent.Agent):\n",
    "    async def setup(self):\n",
    "        print(f\"{self.name} iniciado\")\n",
    "        self.add_behaviour(self.ProposeBehaviour())\n",
    "\n",
    "    class ProposeBehaviour(spade.behaviour.OneShotBehaviour):\n",
    "        async def run(self):\n",
    "            # Enviar propuestas a cada receptor\n",
    "            for i in range(self.agent.num_receptores):\n",
    "                receiver = f\"agente_receptor{i}@gtirouter.dsic.upv.es\"\n",
    "                msg = spade.message.Message(\n",
    "                    to=receiver,\n",
    "                    body=\"propuesta\",\n",
    "                    metadata={\"performative\": \"propose\"}\n",
    "                )\n",
    "                await self.send(msg)\n",
    "                print(f\"Propuesta enviada a {receiver}\")\n",
    "\n",
    "            # Esperar y recoger respuestas\n",
    "            for _ in range(self.agent.num_receptores):\n",
    "                response = await self.receive(timeout=10)\n",
    "                if response:\n",
    "                    print(f\"Respuesta recibida de {response.sender.localpart}: {response.body}\")\n",
    "\n",
    "class AgenteReceptor(spade.agent.Agent):\n",
    "    async def setup(self):\n",
    "        print(f\"{self.name} iniciado\")\n",
    "        self.add_behaviour(self.ReceiveBehaviour())\n",
    "\n",
    "    class ReceiveBehaviour(spade.behaviour.CyclicBehaviour):\n",
    "        async def run(self):\n",
    "            msg = await self.receive(timeout=10)\n",
    "            if msg:\n",
    "                number = str(random.randint(1, 100))\n",
    "                reply = msg.make_reply()\n",
    "                reply.body = number\n",
    "                await self.send(reply)\n",
    "                print(f\"{self.agent.name} respondió con {number}\")\n",
    "\n",
    "async def crear_agentes_receptores(num_receptores):\n",
    "    receptores = []\n",
    "    for i in range(num_receptores):\n",
    "        agente = AgenteReceptor(f\"agente_receptor{i}@gtirouter.dsic.upv.es\", \"secret\")\n",
    "        await agente.start()\n",
    "        receptores.append(agente)\n",
    "    return receptores\n",
    "\n",
    "\n"
   ]
  },
  {
   "cell_type": "code",
   "execution_count": null,
   "metadata": {},
   "outputs": [],
   "source": [
    "num_receptores = 5\n",
    "\n",
    "# Crear y empezar agentes receptores\n",
    "receptores = await crear_agentes_receptores(num_receptores)\n",
    "\n",
    "# Crear y empezar agente propositor\n",
    "agente_propositor = AgentePropositor(\"agente_propositor@gtirouter.dsic.upv.es\", \"secret\")\n",
    "agente_propositor.num_receptores = num_receptores\n",
    "await agente_propositor.start()"
   ]
  },
  {
   "cell_type": "code",
   "execution_count": null,
   "metadata": {},
   "outputs": [],
   "source": []
  }
 ],
 "metadata": {
  "kernelspec": {
   "display_name": "Python 3",
   "language": "python",
   "name": "python3"
  },
  "language_info": {
   "codemirror_mode": {
    "name": "ipython",
    "version": 3
   },
   "file_extension": ".py",
   "mimetype": "text/x-python",
   "name": "python",
   "nbconvert_exporter": "python",
   "pygments_lexer": "ipython3",
   "version": "3.8.5"
  }
 },
 "nbformat": 4,
 "nbformat_minor": 5
}
