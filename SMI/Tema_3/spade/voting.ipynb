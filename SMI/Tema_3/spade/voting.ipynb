{
 "cells": [
  {
   "cell_type": "code",
   "execution_count": null,
   "metadata": {},
   "outputs": [],
   "source": [
    "pip install spade\n"
   ]
  },
  {
   "cell_type": "markdown",
   "metadata": {},
   "source": [
    "# Ejemplo de votacion simple (SI o NO), al final de la votación se sacan los resultados obtenidos en porcentaje\n",
    "\n",
    "**Recuerda cambiar el nombre de los agentes**"
   ]
  },
  {
   "cell_type": "code",
   "execution_count": null,
   "metadata": {},
   "outputs": [],
   "source": [
    "import spade\n",
    "from spade.message import Message\n",
    "from spade.behaviour import CyclicBehaviour, OneShotBehaviour\n",
    "import asyncio\n",
    "\n",
    "class VotingAgent(spade.agent.Agent):\n",
    "    def __init__(self, jid, password, participants):\n",
    "        super().__init__(jid, password)\n",
    "        self.participants = participants\n",
    "        self.votes = {\"YES\": 0, \"NO\": 0}\n",
    "\n",
    "    class CollectVotesBehaviour(CyclicBehaviour):\n",
    "        async def run(self):\n",
    "            msg = await self.receive(timeout=10)\n",
    "            if msg:\n",
    "                vote = msg.body\n",
    "                self.agent.votes[vote] += 1\n",
    "\n",
    "    class InitiateVotingBehaviour(OneShotBehaviour):\n",
    "        async def run(self):\n",
    "            # Enviar solicitudes de votación\n",
    "            print(\"Iniciando votación\")\n",
    "            for participant in self.agent.participants:\n",
    "                msg = Message(to=participant)\n",
    "                msg.set_metadata(\"performative\", \"request\")\n",
    "                msg.body = \"Please vote YES or NO\"\n",
    "                await self.send(msg)\n",
    "\n",
    "            # Esperar a que los agentes voten\n",
    "            await asyncio.sleep(20)  # Ajusta este tiempo según sea necesario\n",
    "\n",
    "            # Calcular y mostrar los resultados\n",
    "            total_votes = sum(self.agent.votes.values())\n",
    "            if total_votes > 0:\n",
    "                yes_percentage = (self.agent.votes[\"YES\"] / total_votes) * 100\n",
    "                no_percentage = (self.agent.votes[\"NO\"] / total_votes) * 100\n",
    "                print(f\"Results: YES: {yes_percentage:.2f}%, NO: {no_percentage:.2f}%\")\n",
    "            else:\n",
    "                print(\"No votes received.\")\n",
    "\n",
    "    async def setup(self):\n",
    "        self.add_behaviour(self.CollectVotesBehaviour())\n",
    "        self.add_behaviour(self.InitiateVotingBehaviour())\n",
    "\n"
   ]
  },
  {
   "cell_type": "code",
   "execution_count": null,
   "metadata": {},
   "outputs": [],
   "source": [
    "import random\n",
    "\n",
    "class ParticipantAgent(spade.agent.Agent):\n",
    "    class VotingBehaviour(CyclicBehaviour):\n",
    "        async def run(self):\n",
    "            msg = await self.receive(timeout=10)\n",
    "            if msg:\n",
    "                vote = random.choice([\"YES\", \"NO\"])\n",
    "                reply = msg.make_reply()\n",
    "                reply.body = vote\n",
    "                await self.send(reply)\n",
    "\n",
    "    async def setup(self):\n",
    "        self.add_behaviour(self.VotingBehaviour())\n"
   ]
  },
  {
   "cell_type": "code",
   "execution_count": null,
   "metadata": {},
   "outputs": [],
   "source": [
    "\n",
    "num_participants = 2  # Número de participantes\n",
    "participant_jids = [f\"participant{i}@gtirouter.dsic.upv.es\" for i in range(num_participants)]\n",
    "\n",
    "\n",
    "# Iniciar agentes participantes\n",
    "participants = [ParticipantAgent(jid, \"secret\") for jid in participant_jids]\n",
    "for participant in participants:\n",
    "    await participant.start()\n",
    "\n",
    "await asyncio.sleep(5)  # Esperar a que se complete la creacion de los participantes\n",
    "    \n",
    "# Iniciar el agente de votación\n",
    "voting_agent = VotingAgent(\"voting@gtirouter.dsic.upv.es\", \"secret\", participant_jids)\n",
    "await voting_agent.start()\n",
    "\n",
    "await asyncio.sleep(10)  # Esperar a que se complete la votación y se muestren los resultados\n",
    "\n",
    "# Detener a todos los agentes\n",
    "await voting_agent.stop()\n",
    "for participant in participants:\n",
    "    await participant.stop()\n",
    "\n"
   ]
  },
  {
   "cell_type": "code",
   "execution_count": null,
   "metadata": {},
   "outputs": [],
   "source": []
  }
 ],
 "metadata": {
  "kernelspec": {
   "display_name": "Python 3",
   "language": "python",
   "name": "python3"
  },
  "language_info": {
   "codemirror_mode": {
    "name": "ipython",
    "version": 3
   },
   "file_extension": ".py",
   "mimetype": "text/x-python",
   "name": "python",
   "nbconvert_exporter": "python",
   "pygments_lexer": "ipython3",
   "version": "3.8.5"
  }
 },
 "nbformat": 4,
 "nbformat_minor": 4
}
