{
 "cells": [
  {
   "cell_type": "code",
   "execution_count": 16,
   "metadata": {},
   "outputs": [],
   "source": [
    "import spade\n",
    "import random\n",
    "from spade.agent import Agent\n",
    "from spade.behaviour import CyclicBehaviour\n",
    "from spade.message import Message\n",
    "\n",
    "class Grid:\n",
    "    def __init__(self, width, height):\n",
    "        self.width = width\n",
    "        self.height = height\n",
    "        self.grid = [[None for _ in range(width)] for _ in range(height)]\n",
    "\n",
    "    def is_position_free(self, x, y):\n",
    "        return self.grid[y][x] is None\n",
    "\n",
    "    def move_agent(self, agent, x, y):\n",
    "        # Eliminar al agente de su posición actual\n",
    "        for i, row in enumerate(self.grid):\n",
    "            for j, current_agent in enumerate(row):\n",
    "                if current_agent == agent:\n",
    "                    self.grid[i][j] = None\n",
    "                    break\n",
    "\n",
    "        # Colocar al agente en la nueva posición\n",
    "        self.grid[y][x] = agent\n",
    "\n",
    "    def find_free_position(self):\n",
    "        free_positions = [(x, y) for x in range(self.width) for y in range(self.height) if self.is_position_free(x, y)]\n",
    "        return random.choice(free_positions) if free_positions else None\n",
    "    \n",
    "    def get_neighbors(self, x, y):\n",
    "        neighbors = []\n",
    "        for dx in [-1, 0, 1]:\n",
    "            for dy in [-1, 0, 1]:\n",
    "                nx, ny = x + dx, y + dy\n",
    "                if 0 <= nx < self.width and 0 <= ny < self.height and (dx != 0 or dy != 0):\n",
    "                    neighbors.append(self.grid[ny][nx])\n",
    "        return neighbors\n"
   ]
  },
  {
   "cell_type": "code",
   "execution_count": 31,
   "metadata": {},
   "outputs": [],
   "source": [
    "\n",
    "\n",
    "class IndividualAgent(Agent):\n",
    "    def __init__(self, jid, password, agent_type, tolerance, grid):\n",
    "        super().__init__(jid, password)\n",
    "        self.agent_type = agent_type\n",
    "        self.tolerance = tolerance\n",
    "        self.grid = grid\n",
    "        self.x, self.y = self.grid.find_free_position()\n",
    "        self.grid.move_agent(self, self.x, self.y)\n",
    "        self.is_satisfied = True\n",
    "\n",
    "    class EvaluateNeighborhoodBehaviour(CyclicBehaviour):\n",
    "        async def run(self):\n",
    "            neighbors = self.agent.grid.get_neighbors(self.agent.x, self.agent.y)\n",
    "            similar = sum(1 for n in neighbors if n and n.agent_type == self.agent.agent_type)\n",
    "            total = sum(1 for n in neighbors if n)\n",
    "            self.agent.is_satisfied = (similar / total) >= self.agent.tolerance if total > 0 else True\n",
    "            #print(f\"{self.agent.name} está {'satisfecho' if self.agent.is_satisfied else 'insatisfecho'}\")\n",
    "\n",
    "            if total > 0 and (similar / total) < self.agent.tolerance:\n",
    "                # Agente insatisfecho, buscar nueva posición\n",
    "                \n",
    "                new_position = self.agent.grid.find_free_position()\n",
    "                if new_position:\n",
    "                    self.agent.grid.move_agent(self.agent, *new_position)\n",
    "                    self.agent.x, self.agent.y = new_position\n",
    "                    \n",
    "            await asyncio.sleep(2)\n",
    "                    \n",
    "\n",
    "    async def setup(self):\n",
    "        self.add_behaviour(self.EvaluateNeighborhoodBehaviour())\n",
    "\n"
   ]
  },
  {
   "cell_type": "code",
   "execution_count": 32,
   "metadata": {},
   "outputs": [],
   "source": [
    "def create_agents(num_agents, tolerance_threshold, grid):\n",
    "    agents = []\n",
    "    for i in range(num_agents):\n",
    "        agent_type = random.choice([\"A\", \"B\"])\n",
    "        agent_jid = f\"individual_{i}@gtirouter.dsic.upv.es\"\n",
    "        agent = IndividualAgent(agent_jid, \"password\", agent_type, tolerance_threshold, grid)\n",
    "        agents.append(agent)\n",
    "    return agents\n"
   ]
  },
  {
   "cell_type": "code",
   "execution_count": 37,
   "metadata": {},
   "outputs": [],
   "source": [
    "import matplotlib.pyplot as plt\n",
    "\n",
    "def visualize_grid(grid):\n",
    "    fig, ax = plt.subplots()\n",
    "    for y in range(grid.height):\n",
    "        for x in range(grid.width):\n",
    "            agent = grid.grid[y][x]\n",
    "            if agent is not None:\n",
    "                if agent.agent_type == \"A\":\n",
    "                    color = 'blue'\n",
    "                else:\n",
    "                    color = 'red'\n",
    "                ax.scatter(x, y, c=color)\n",
    "\n",
    "    ax.set_xlim(-1, grid.width)\n",
    "    ax.set_ylim(-1, grid.height)\n",
    "    ax.set_xticks(range(grid.width))\n",
    "    ax.set_yticks(range(grid.height))\n",
    "    ax.grid(True)\n",
    "    plt.show()"
   ]
  },
  {
   "cell_type": "code",
   "execution_count": 38,
   "metadata": {},
   "outputs": [
    {
     "data": {
      "image/png": "[encoded data removed]",
      "text/plain": [
       "<Figure size 432x288 with 1 Axes>"
      ]
     },
     "metadata": {
      "needs_background": "light"
     },
     "output_type": "display_data"
    },
    {
     "data": {
      "image/png": "[encoded data removed]",
      "text/plain": [
       "<Figure size 432x288 with 1 Axes>"
      ]
     },
     "metadata": {
      "needs_background": "light"
     },
     "output_type": "display_data"
    },
    {
     "data": {
      "image/png": "[encoded data removed]",
      "text/plain": [
       "<Figure size 432x288 with 1 Axes>"
      ]
     },
     "metadata": {
      "needs_background": "light"
     },
     "output_type": "display_data"
    }
   ],
   "source": [
    "import time\n",
    "import asyncio\n",
    "import matplotlib.pyplot as plt\n",
    "\n",
    "grid = Grid(10, 10)  # Cuadrícula de 10x10\n",
    "agents = create_agents(80, 0.7, grid)  # X agentes con un umbral de tolerancia del Y%\n",
    "await asyncio.sleep(5)\n",
    "\n",
    "for agent in agents:\n",
    "    await agent.start()\n",
    "    \n",
    "visualize_grid(grid)\n",
    "\n",
    "satisfaction_rates = []\n",
    "execution_time = 60  # Ejecutar por XX segundos\n",
    "start_time = time.time()\n",
    "\n",
    "while time.time() - start_time < execution_time:\n",
    "    await asyncio.sleep(1)  # Registrar cada X segundos\n",
    "    satisfied_agents = sum(agent.is_satisfied for agent in agents)\n",
    "    total_agents = len(agents)\n",
    "    satisfaction_rate = (satisfied_agents / total_agents) * 100\n",
    "    satisfaction_rates.append(satisfaction_rate)\n",
    "\n",
    "# Detener a todos los agentes\n",
    "for agent in agents:\n",
    "    await agent.stop()\n",
    "\n",
    "# Mostrar la gráfica de la evolución de la satisfacción\n",
    "plt.plot(satisfaction_rates)\n",
    "plt.xlabel('Tiempo')\n",
    "plt.ylabel('Porcentaje de Satisfacción')\n",
    "plt.title('Evolución de la Satisfacción de los Agentes')\n",
    "plt.show()\n",
    "\n",
    "visualize_grid(grid)"
   ]
  },
  {
   "cell_type": "code",
   "execution_count": 36,
   "metadata": {},
   "outputs": [
    {
     "data": {
      "image/png": "[encoded data removed]",
      "text/plain": [
       "<Figure size 432x288 with 1 Axes>"
      ]
     },
     "metadata": {
      "needs_background": "light"
     },
     "output_type": "display_data"
    }
   ],
   "source": [
    "\n",
    "\n",
    "    \n"
   ]
  },
  {
   "cell_type": "code",
   "execution_count": null,
   "metadata": {},
   "outputs": [],
   "source": []
  }
 ],
 "metadata": {
  "kernelspec": {
   "display_name": "Python 3",
   "language": "python",
   "name": "python3"
  },
  "language_info": {
   "codemirror_mode": {
    "name": "ipython",
    "version": 3
   },
   "file_extension": ".py",
   "mimetype": "text/x-python",
   "name": "python",
   "nbconvert_exporter": "python",
   "pygments_lexer": "ipython3",
   "version": "3.8.5"
  }
 },
 "nbformat": 4,
 "nbformat_minor": 4
}
